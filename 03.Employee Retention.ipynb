{
 "cells": [
  {
   "cell_type": "markdown",
   "id": "dbf09546",
   "metadata": {},
   "source": [
    "# Goal\n",
    "\n",
    "Employee turn-over is a very costly problem for companies. The cost of replacing an employee is often huge, taking into account the time spent to interview and find a replacement, placement fees, sign-on bonuses, the loss of productivity for several months and impact on company morale when you see coworkers leave.\n",
    "\n",
    "It is only natural then that data science has started being applied to this area. Understanding why and when employees are most likely to leave can lead to actions to improve employee retention as well as planning new hiring in advance. This application of DS is often called people analytics or people data science (if you see a job title: people data scientist, this is the job).\n",
    "\n",
    "In this challenge, you have a data set with info about the employees and you have to predict when employees are going to quit by understanding the main drivers of employee churn."
   ]
  },
  {
   "cell_type": "markdown",
   "id": "1f862b60",
   "metadata": {},
   "source": [
    "## Challenge Description\n",
    "\n",
    "We got employee data from a few companies. We have data about all employees who joined from 2011/01/24 to 2015/12/13. For each employee, we also know if they are still at the company as of 2015/12/13 or they have quit. Beside that, we have general info about the employee, such as avg salary during her tenure, dept, and yrs of experience.\n",
    "\n",
    "As said above, the goal is to predict employee retention and understand its main drivers. Specifically, you should:\n",
    "\n",
    "\n",
    "1. Assume, for each company, that the headcount starts from zero on 2011/01/23. Estimate employee headcount, for each company on each day, from 2011/01/24 to 2015/12/13. That is, if by 2012/03/02 2000 people have joined company 1 and 1000 of them have already quit, then company headcount on 2012/03/02 for company 1 would be 1000. You should create a table with 3 columns: day, employee_headcount, company_id\n",
    "\n",
    "\n",
    "2. What are the main factors that drive employee churn? Do they make sense? Explain your findings\n",
    "\n",
    "\n",
    "3. If you could add to this data set just one variable that could help explain employee churn, what would that be?\n"
   ]
  },
  {
   "cell_type": "markdown",
   "id": "3a180d21",
   "metadata": {},
   "source": [
    "## Data"
   ]
  },
  {
   "cell_type": "code",
   "execution_count": 20,
   "id": "2fc99a29",
   "metadata": {},
   "outputs": [],
   "source": [
    "import pandas as pd\n",
    "import numpy as np\n",
    "pandas.set_option('display.max_columns', 10)\n",
    "pandas.set_option('display.width', 350)"
   ]
  },
  {
   "cell_type": "code",
   "execution_count": 19,
   "id": "d7fea75f",
   "metadata": {},
   "outputs": [
    {
     "name": "stdout",
     "output_type": "stream",
     "text": [
      "   employee_id  company_id              dept  seniority    salary   join_date   quit_date\n",
      "0      13021.0           7  customer_service         28   89000.0  2014-03-24  2015-10-30\n",
      "1     825355.0           7         marketing         20  183000.0  2013-04-29  2014-04-04\n",
      "2     927315.0           4         marketing         14  101000.0  2014-10-13         NaN\n",
      "3     662910.0           7  customer_service         20  115000.0  2012-05-14  2013-06-07\n",
      "4     256971.0           2      data_science         23  276000.0  2011-10-17  2014-08-22\n"
     ]
    }
   ],
   "source": [
    "#read from google drive\n",
    "data=pd.read_csv(\"./data/employee_retention_data.csv\")\n",
    "  \n",
    "print(data.head())"
   ]
  },
  {
   "cell_type": "markdown",
   "id": "09c574d8",
   "metadata": {},
   "source": [
    "- employee_id : id of the employee. Unique by employee per company\n",
    "\n",
    "- company_id : company id. It is unique by company\n",
    "\n",
    "- dept : employee dept\n",
    "\n",
    "- seniority : number of yrs of work experience when hired\n",
    "\n",
    "- salary: avg yearly salary of the employee during her tenure within the company\n",
    "\n",
    "- join_date: when the employee joined the company, it can only be between 2011/01/24 and 2015/12/13\n",
    "\n",
    "- quit_date: when the employee left her job (if she is still employed as of 2015/12/13, this field is NA)\n"
   ]
  },
  {
   "cell_type": "markdown",
   "id": "25114f31",
   "metadata": {},
   "source": [
    "## First Question Solution\n",
    "Assume, for each company, that the headcount starts from zero on 2011/01/23. Estimate employee headcount, for each company on each day, from 2011/01/24 to 2015/12/13. That is, if by 2012/03/02 2000 people have joined company 1 and 1000 of them have already quit, then company headcount on 2012/03/02 for company 1 would be 1000. You should create a table with 3 columns: day, employee_headcount, company_id"
   ]
  },
  {
   "cell_type": "code",
   "execution_count": 21,
   "id": "8e28eb5d",
   "metadata": {},
   "outputs": [
    {
     "name": "stderr",
     "output_type": "stream",
     "text": [
      "/var/folders/cx/bjmhwqx17hs884fsv84_cckh0000gn/T/ipykernel_57467/2056028482.py:8: FutureWarning: Treating datetime data as categorical rather than numeric in `.describe` is deprecated and will be removed in a future version of pandas. Specify `datetime_is_numeric=True` to silence this warning and adopt the future behavior now.\n",
      "  data.describe(include=\"all\")\n",
      "/var/folders/cx/bjmhwqx17hs884fsv84_cckh0000gn/T/ipykernel_57467/2056028482.py:8: FutureWarning: Treating datetime data as categorical rather than numeric in `.describe` is deprecated and will be removed in a future version of pandas. Specify `datetime_is_numeric=True` to silence this warning and adopt the future behavior now.\n",
      "  data.describe(include=\"all\")\n"
     ]
    },
    {
     "data": {
      "text/html": [
       "<div>\n",
       "<style scoped>\n",
       "    .dataframe tbody tr th:only-of-type {\n",
       "        vertical-align: middle;\n",
       "    }\n",
       "\n",
       "    .dataframe tbody tr th {\n",
       "        vertical-align: top;\n",
       "    }\n",
       "\n",
       "    .dataframe thead th {\n",
       "        text-align: right;\n",
       "    }\n",
       "</style>\n",
       "<table border=\"1\" class=\"dataframe\">\n",
       "  <thead>\n",
       "    <tr style=\"text-align: right;\">\n",
       "      <th></th>\n",
       "      <th>employee_id</th>\n",
       "      <th>company_id</th>\n",
       "      <th>dept</th>\n",
       "      <th>seniority</th>\n",
       "      <th>salary</th>\n",
       "      <th>join_date</th>\n",
       "      <th>quit_date</th>\n",
       "    </tr>\n",
       "  </thead>\n",
       "  <tbody>\n",
       "    <tr>\n",
       "      <th>count</th>\n",
       "      <td>24702.000000</td>\n",
       "      <td>24702.000000</td>\n",
       "      <td>24702</td>\n",
       "      <td>24702.000000</td>\n",
       "      <td>24702.000000</td>\n",
       "      <td>24702</td>\n",
       "      <td>13510</td>\n",
       "    </tr>\n",
       "    <tr>\n",
       "      <th>unique</th>\n",
       "      <td>NaN</td>\n",
       "      <td>NaN</td>\n",
       "      <td>6</td>\n",
       "      <td>NaN</td>\n",
       "      <td>NaN</td>\n",
       "      <td>995</td>\n",
       "      <td>664</td>\n",
       "    </tr>\n",
       "    <tr>\n",
       "      <th>top</th>\n",
       "      <td>NaN</td>\n",
       "      <td>NaN</td>\n",
       "      <td>customer_service</td>\n",
       "      <td>NaN</td>\n",
       "      <td>NaN</td>\n",
       "      <td>2012-01-03 00:00:00</td>\n",
       "      <td>2015-05-08 00:00:00</td>\n",
       "    </tr>\n",
       "    <tr>\n",
       "      <th>freq</th>\n",
       "      <td>NaN</td>\n",
       "      <td>NaN</td>\n",
       "      <td>9180</td>\n",
       "      <td>NaN</td>\n",
       "      <td>NaN</td>\n",
       "      <td>105</td>\n",
       "      <td>111</td>\n",
       "    </tr>\n",
       "    <tr>\n",
       "      <th>first</th>\n",
       "      <td>NaN</td>\n",
       "      <td>NaN</td>\n",
       "      <td>NaN</td>\n",
       "      <td>NaN</td>\n",
       "      <td>NaN</td>\n",
       "      <td>2011-01-24 00:00:00</td>\n",
       "      <td>2011-10-13 00:00:00</td>\n",
       "    </tr>\n",
       "    <tr>\n",
       "      <th>last</th>\n",
       "      <td>NaN</td>\n",
       "      <td>NaN</td>\n",
       "      <td>NaN</td>\n",
       "      <td>NaN</td>\n",
       "      <td>NaN</td>\n",
       "      <td>2015-12-10 00:00:00</td>\n",
       "      <td>2015-12-09 00:00:00</td>\n",
       "    </tr>\n",
       "    <tr>\n",
       "      <th>mean</th>\n",
       "      <td>501604.403530</td>\n",
       "      <td>3.426969</td>\n",
       "      <td>NaN</td>\n",
       "      <td>14.127803</td>\n",
       "      <td>138183.345478</td>\n",
       "      <td>NaN</td>\n",
       "      <td>NaN</td>\n",
       "    </tr>\n",
       "    <tr>\n",
       "      <th>std</th>\n",
       "      <td>288909.026101</td>\n",
       "      <td>2.700011</td>\n",
       "      <td>NaN</td>\n",
       "      <td>8.089520</td>\n",
       "      <td>76058.184573</td>\n",
       "      <td>NaN</td>\n",
       "      <td>NaN</td>\n",
       "    </tr>\n",
       "    <tr>\n",
       "      <th>min</th>\n",
       "      <td>36.000000</td>\n",
       "      <td>1.000000</td>\n",
       "      <td>NaN</td>\n",
       "      <td>1.000000</td>\n",
       "      <td>17000.000000</td>\n",
       "      <td>NaN</td>\n",
       "      <td>NaN</td>\n",
       "    </tr>\n",
       "    <tr>\n",
       "      <th>25%</th>\n",
       "      <td>250133.750000</td>\n",
       "      <td>1.000000</td>\n",
       "      <td>NaN</td>\n",
       "      <td>7.000000</td>\n",
       "      <td>79000.000000</td>\n",
       "      <td>NaN</td>\n",
       "      <td>NaN</td>\n",
       "    </tr>\n",
       "    <tr>\n",
       "      <th>50%</th>\n",
       "      <td>500793.000000</td>\n",
       "      <td>2.000000</td>\n",
       "      <td>NaN</td>\n",
       "      <td>14.000000</td>\n",
       "      <td>123000.000000</td>\n",
       "      <td>NaN</td>\n",
       "      <td>NaN</td>\n",
       "    </tr>\n",
       "    <tr>\n",
       "      <th>75%</th>\n",
       "      <td>753137.250000</td>\n",
       "      <td>5.000000</td>\n",
       "      <td>NaN</td>\n",
       "      <td>21.000000</td>\n",
       "      <td>187000.000000</td>\n",
       "      <td>NaN</td>\n",
       "      <td>NaN</td>\n",
       "    </tr>\n",
       "    <tr>\n",
       "      <th>max</th>\n",
       "      <td>999969.000000</td>\n",
       "      <td>12.000000</td>\n",
       "      <td>NaN</td>\n",
       "      <td>99.000000</td>\n",
       "      <td>408000.000000</td>\n",
       "      <td>NaN</td>\n",
       "      <td>NaN</td>\n",
       "    </tr>\n",
       "  </tbody>\n",
       "</table>\n",
       "</div>"
      ],
      "text/plain": [
       "          employee_id    company_id              dept     seniority         salary            join_date            quit_date\n",
       "count    24702.000000  24702.000000             24702  24702.000000   24702.000000                24702                13510\n",
       "unique            NaN           NaN                 6           NaN            NaN                  995                  664\n",
       "top               NaN           NaN  customer_service           NaN            NaN  2012-01-03 00:00:00  2015-05-08 00:00:00\n",
       "freq              NaN           NaN              9180           NaN            NaN                  105                  111\n",
       "first             NaN           NaN               NaN           NaN            NaN  2011-01-24 00:00:00  2011-10-13 00:00:00\n",
       "last              NaN           NaN               NaN           NaN            NaN  2015-12-10 00:00:00  2015-12-09 00:00:00\n",
       "mean    501604.403530      3.426969               NaN     14.127803  138183.345478                  NaN                  NaN\n",
       "std     288909.026101      2.700011               NaN      8.089520   76058.184573                  NaN                  NaN\n",
       "min         36.000000      1.000000               NaN      1.000000   17000.000000                  NaN                  NaN\n",
       "25%     250133.750000      1.000000               NaN      7.000000   79000.000000                  NaN                  NaN\n",
       "50%     500793.000000      2.000000               NaN     14.000000  123000.000000                  NaN                  NaN\n",
       "75%     753137.250000      5.000000               NaN     21.000000  187000.000000                  NaN                  NaN\n",
       "max     999969.000000     12.000000               NaN     99.000000  408000.000000                  NaN                  NaN"
      ]
     },
     "execution_count": 21,
     "metadata": {},
     "output_type": "execute_result"
    }
   ],
   "source": [
    "from datetime import datetime\n",
    "  \n",
    "#make them a date\n",
    "data['join_date'] = pd.to_datetime(data['join_date']) \n",
    "data['quit_date'] = pd.to_datetime(data['quit_date']) \n",
    "  \n",
    "#everything seems to make sense, some simple plots would help double check that\n",
    "data.describe(include=\"all\")"
   ]
  },
  {
   "cell_type": "markdown",
   "id": "1ce5b6ec",
   "metadata": {},
   "source": [
    "Let’s answer the question now. You should create a table with 3 columns: day, employee_headcount, company_id."
   ]
  },
  {
   "cell_type": "code",
   "execution_count": 34,
   "id": "9bc890a0",
   "metadata": {},
   "outputs": [
    {
     "name": "stdout",
     "output_type": "stream",
     "text": [
      "          date  company_id  count\n",
      "4   2011-01-24           1   25.0\n",
      "16  2011-01-25           1   27.0\n",
      "28  2011-01-26           1   29.0\n",
      "40  2011-01-27           1   29.0\n",
      "52  2011-01-28           1   29.0\n",
      "64  2011-01-29           1   29.0\n",
      "76  2011-01-30           1   29.0\n",
      "88  2011-01-31           1   59.0\n",
      "100 2011-02-01           1   66.0\n",
      "112 2011-02-02           1   67.0\n",
      "124 2011-02-03           1   67.0\n",
      "136 2011-02-04           1   67.0\n",
      "148 2011-02-05           1   67.0\n",
      "160 2011-02-06           1   67.0\n",
      "172 2011-02-07           1   99.0\n"
     ]
    }
   ],
   "source": [
    "#create list of unique dates for the tables\n",
    "unique_dates = pd.date_range(start='2011/01/24', end='2015/12/13')\n",
    "  \n",
    "#create list of unique companies\n",
    "unique_companies = data['company_id'].unique()\n",
    "  \n",
    "#cross join so I get all combinations of dates and companies. Will need it later.\n",
    "data_headcount = pd.MultiIndex.from_product([unique_dates, unique_companies], names = [\"date\", \"company_id\"])\n",
    "data_headcount = pd.DataFrame(index = data_headcount).reset_index()\n",
    "  \n",
    "#now I get for each day/company, how many people quit/got hired on that day\n",
    "data_join = data.groupby(['join_date', 'company_id']).size().reset_index(name='join_count')\n",
    "data_join.columns.values[0]='date'\n",
    "data_quit = data.groupby(['quit_date', 'company_id']).size().reset_index(name='quit_count')\n",
    "data_quit.columns.values[0]='date'\n",
    "  \n",
    "#Now I left outer join with data_headcount. \n",
    "#NA means no people were hired/quit on that day cause there is no match.\n",
    "data_headcount = pd.merge(data_headcount, data_join, on=[\"date\", \"company_id\"], how='left')\n",
    "data_headcount = pd.merge(data_headcount, data_quit, on=[\"date\", \"company_id\"], how='left')\n",
    "  \n",
    "#replace the NAs with 0\n",
    "data_headcount.fillna(0, inplace=True)\n",
    "  \n",
    "#Now I need the sum by company_id. Data set is already ordered by date, so I can simply group by company_id and do cumsum\n",
    "data_headcount['cumsum_join'] = data_headcount.groupby(['company_id'])['join_count'].apply(lambda x: x.cumsum())\n",
    "data_headcount['cumsum_quit'] = data_headcount.groupby(['company_id'])['quit_count'].apply(lambda x: x.cumsum())\n",
    "  \n",
    "#finally, for each date I just take join_count - quit_count and I am done\n",
    "data_headcount['count'] = data_headcount['cumsum_join'] - data_headcount['cumsum_quit']\n",
    "data_headcount_table = data_headcount[[\"date\", \"company_id\",\"count\"]]\n",
    "  \n",
    "#let's check company 1\n",
    "print(data_headcount_table.query(\"company_id == 1\").head(15))"
   ]
  },
  {
   "cell_type": "code",
   "execution_count": 23,
   "id": "17c1d9b0",
   "metadata": {},
   "outputs": [
    {
     "name": "stdout",
     "output_type": "stream",
     "text": [
      "          date  company_id  count\n",
      "4   2011-01-24           1     25\n",
      "16  2011-01-25           1     27\n",
      "28  2011-01-26           1     29\n",
      "40  2011-01-27           1     29\n",
      "52  2011-01-28           1     29\n",
      "64  2011-01-29           1     29\n",
      "76  2011-01-30           1     29\n",
      "88  2011-01-31           1     59\n",
      "100 2011-02-01           1     66\n",
      "112 2011-02-02           1     67\n",
      "124 2011-02-03           1     67\n",
      "136 2011-02-04           1     67\n",
      "148 2011-02-05           1     67\n",
      "160 2011-02-06           1     67\n",
      "172 2011-02-07           1     99\n"
     ]
    }
   ],
   "source": [
    "#Another way to do it would be with a for loop. \n",
    "#intialize empty vectors\n",
    "loop_cumsum = []\n",
    "loop_date = []\n",
    "loop_company = []\n",
    "#loop through all days\n",
    "for i in unique_dates:\n",
    "  # loop through all companies\n",
    "   for j in unique_companies:\n",
    "        # count joins until that day\n",
    "        tmp_join = data[(data['join_date'] <= i) & (data['company_id'] == j)].shape[0]\n",
    "        # count quits\n",
    "        tmp_quit = data[(data['quit_date'] <= i) & (data['company_id'] == j)].shape[0]\n",
    "        loop_cumsum.append(tmp_join - tmp_quit) \n",
    "        loop_date.append(i)\n",
    "        loop_company.append(j)\n",
    "data_headcount_table_loop = pandas.DataFrame({ 'date': loop_date, 'company_id': loop_company, 'count': loop_cumsum})\n",
    "#let's check company 1\n",
    "print(data_headcount_table_loop.query(\"company_id == 1\").head(15))"
   ]
  },
  {
   "cell_type": "markdown",
   "id": "bb9b0c85",
   "metadata": {},
   "source": [
    "## Second Question Solution\n",
    "Now let’s try to understand employee retention. Here the main challenge is about feature engineering. That is, extract variables from the quitting_date column."
   ]
  },
  {
   "cell_type": "code",
   "execution_count": 39,
   "id": "540488ff",
   "metadata": {},
   "outputs": [
    {
     "data": {
      "image/png": "[encoded data removed]",
      "text/plain": [
       "<Figure size 432x288 with 1 Axes>"
      ]
     },
     "metadata": {
      "needs_background": "light"
     },
     "output_type": "display_data"
    }
   ],
   "source": [
    "import matplotlib.pyplot as plt\n",
    "  \n",
    "#How many days were they employed? This should matter. People might get bored in the same place for too long\n",
    "data['employment_length'] = (data['quit_date'] - data['join_date']).astype('timedelta64[D]')\n",
    "  \n",
    "#Let's plot employment length in days\n",
    "plt.hist(data['employment_length'].dropna(), bins=100)\n",
    "plt.show()"
   ]
  },
  {
   "cell_type": "markdown",
   "id": "b82f4ba9",
   "metadata": {},
   "source": [
    "Very interesting, there are peaks around each employee year anniversary!\n",
    "\n",
    "Now, let’s see if we find the characteristics of people who quit early. Looking at the histogram of employment_length, it looks like we could define early quitters as those people who quit within 1 yr or so. So, let’s create two classes of users : quit within 13 months or not (if they haven’t been in the current company for at least 13 months, we remove them)"
   ]
  },
  {
   "cell_type": "code",
   "execution_count": 40,
   "id": "db2b19e9",
   "metadata": {},
   "outputs": [],
   "source": [
    "from datetime import timedelta\n",
    "#Create binary class\n",
    "data=data[data['join_date'] <datetime.strptime(\"2015/12/13\", \"%Y/%m/%d\") - timedelta(days=(365+31))]\n",
    "data['early_quitter'] = np.where((data['employment_length']>396) | (np.isnan(data['employment_length'])), 0, 1)"
   ]
  },
  {
   "cell_type": "markdown",
   "id": "5a067d8c",
   "metadata": {},
   "source": [
    "Let’s now build a model. Here we can just care about: seniority, salary, dept, and company. A simple decision tree is probably more than enough."
   ]
  },
  {
   "cell_type": "code",
   "execution_count": 44,
   "id": "31bc14b1",
   "metadata": {},
   "outputs": [
    {
     "data": {
      "text/html": [
       "<div>\n",
       "<style scoped>\n",
       "    .dataframe tbody tr th:only-of-type {\n",
       "        vertical-align: middle;\n",
       "    }\n",
       "\n",
       "    .dataframe tbody tr th {\n",
       "        vertical-align: top;\n",
       "    }\n",
       "\n",
       "    .dataframe thead th {\n",
       "        text-align: right;\n",
       "    }\n",
       "</style>\n",
       "<table border=\"1\" class=\"dataframe\">\n",
       "  <thead>\n",
       "    <tr style=\"text-align: right;\">\n",
       "      <th></th>\n",
       "      <th>employee_id</th>\n",
       "      <th>company_id</th>\n",
       "      <th>dept</th>\n",
       "      <th>seniority</th>\n",
       "      <th>salary</th>\n",
       "      <th>join_date</th>\n",
       "      <th>quit_date</th>\n",
       "      <th>employment_length</th>\n",
       "      <th>early_quitter</th>\n",
       "    </tr>\n",
       "  </thead>\n",
       "  <tbody>\n",
       "    <tr>\n",
       "      <th>0</th>\n",
       "      <td>13021.0</td>\n",
       "      <td>7</td>\n",
       "      <td>customer_service</td>\n",
       "      <td>28</td>\n",
       "      <td>89000.0</td>\n",
       "      <td>2014-03-24</td>\n",
       "      <td>2015-10-30</td>\n",
       "      <td>585.0</td>\n",
       "      <td>0</td>\n",
       "    </tr>\n",
       "    <tr>\n",
       "      <th>1</th>\n",
       "      <td>825355.0</td>\n",
       "      <td>7</td>\n",
       "      <td>marketing</td>\n",
       "      <td>20</td>\n",
       "      <td>183000.0</td>\n",
       "      <td>2013-04-29</td>\n",
       "      <td>2014-04-04</td>\n",
       "      <td>340.0</td>\n",
       "      <td>1</td>\n",
       "    </tr>\n",
       "    <tr>\n",
       "      <th>2</th>\n",
       "      <td>927315.0</td>\n",
       "      <td>4</td>\n",
       "      <td>marketing</td>\n",
       "      <td>14</td>\n",
       "      <td>101000.0</td>\n",
       "      <td>2014-10-13</td>\n",
       "      <td>NaT</td>\n",
       "      <td>NaN</td>\n",
       "      <td>0</td>\n",
       "    </tr>\n",
       "    <tr>\n",
       "      <th>3</th>\n",
       "      <td>662910.0</td>\n",
       "      <td>7</td>\n",
       "      <td>customer_service</td>\n",
       "      <td>20</td>\n",
       "      <td>115000.0</td>\n",
       "      <td>2012-05-14</td>\n",
       "      <td>2013-06-07</td>\n",
       "      <td>389.0</td>\n",
       "      <td>1</td>\n",
       "    </tr>\n",
       "    <tr>\n",
       "      <th>4</th>\n",
       "      <td>256971.0</td>\n",
       "      <td>2</td>\n",
       "      <td>data_science</td>\n",
       "      <td>23</td>\n",
       "      <td>276000.0</td>\n",
       "      <td>2011-10-17</td>\n",
       "      <td>2014-08-22</td>\n",
       "      <td>1040.0</td>\n",
       "      <td>0</td>\n",
       "    </tr>\n",
       "    <tr>\n",
       "      <th>...</th>\n",
       "      <td>...</td>\n",
       "      <td>...</td>\n",
       "      <td>...</td>\n",
       "      <td>...</td>\n",
       "      <td>...</td>\n",
       "      <td>...</td>\n",
       "      <td>...</td>\n",
       "      <td>...</td>\n",
       "      <td>...</td>\n",
       "    </tr>\n",
       "    <tr>\n",
       "      <th>24695</th>\n",
       "      <td>63273.0</td>\n",
       "      <td>1</td>\n",
       "      <td>data_science</td>\n",
       "      <td>5</td>\n",
       "      <td>172000.0</td>\n",
       "      <td>2012-05-01</td>\n",
       "      <td>2015-06-26</td>\n",
       "      <td>1151.0</td>\n",
       "      <td>0</td>\n",
       "    </tr>\n",
       "    <tr>\n",
       "      <th>24696</th>\n",
       "      <td>94644.0</td>\n",
       "      <td>6</td>\n",
       "      <td>marketing</td>\n",
       "      <td>7</td>\n",
       "      <td>88000.0</td>\n",
       "      <td>2012-01-26</td>\n",
       "      <td>2013-02-01</td>\n",
       "      <td>372.0</td>\n",
       "      <td>1</td>\n",
       "    </tr>\n",
       "    <tr>\n",
       "      <th>24699</th>\n",
       "      <td>777612.0</td>\n",
       "      <td>4</td>\n",
       "      <td>customer_service</td>\n",
       "      <td>11</td>\n",
       "      <td>67000.0</td>\n",
       "      <td>2013-09-03</td>\n",
       "      <td>2015-10-23</td>\n",
       "      <td>780.0</td>\n",
       "      <td>0</td>\n",
       "    </tr>\n",
       "    <tr>\n",
       "      <th>24700</th>\n",
       "      <td>97289.0</td>\n",
       "      <td>10</td>\n",
       "      <td>engineer</td>\n",
       "      <td>98</td>\n",
       "      <td>266000.0</td>\n",
       "      <td>2011-12-13</td>\n",
       "      <td>2015-01-09</td>\n",
       "      <td>1123.0</td>\n",
       "      <td>0</td>\n",
       "    </tr>\n",
       "    <tr>\n",
       "      <th>24701</th>\n",
       "      <td>604052.0</td>\n",
       "      <td>1</td>\n",
       "      <td>marketing</td>\n",
       "      <td>99</td>\n",
       "      <td>185000.0</td>\n",
       "      <td>2011-07-26</td>\n",
       "      <td>2013-12-06</td>\n",
       "      <td>864.0</td>\n",
       "      <td>0</td>\n",
       "    </tr>\n",
       "  </tbody>\n",
       "</table>\n",
       "<p>19270 rows × 9 columns</p>\n",
       "</div>"
      ],
      "text/plain": [
       "       employee_id  company_id              dept  seniority    salary  join_date  quit_date  employment_length  early_quitter\n",
       "0          13021.0           7  customer_service         28   89000.0 2014-03-24 2015-10-30              585.0              0\n",
       "1         825355.0           7         marketing         20  183000.0 2013-04-29 2014-04-04              340.0              1\n",
       "2         927315.0           4         marketing         14  101000.0 2014-10-13        NaT                NaN              0\n",
       "3         662910.0           7  customer_service         20  115000.0 2012-05-14 2013-06-07              389.0              1\n",
       "4         256971.0           2      data_science         23  276000.0 2011-10-17 2014-08-22             1040.0              0\n",
       "...            ...         ...               ...        ...       ...        ...        ...                ...            ...\n",
       "24695      63273.0           1      data_science          5  172000.0 2012-05-01 2015-06-26             1151.0              0\n",
       "24696      94644.0           6         marketing          7   88000.0 2012-01-26 2013-02-01              372.0              1\n",
       "24699     777612.0           4  customer_service         11   67000.0 2013-09-03 2015-10-23              780.0              0\n",
       "24700      97289.0          10          engineer         98  266000.0 2011-12-13 2015-01-09             1123.0              0\n",
       "24701     604052.0           1         marketing         99  185000.0 2011-07-26 2013-12-06              864.0              0\n",
       "\n",
       "[19270 rows x 9 columns]"
      ]
     },
     "execution_count": 44,
     "metadata": {},
     "output_type": "execute_result"
    }
   ],
   "source": [
    "data"
   ]
  },
  {
   "cell_type": "code",
   "execution_count": 41,
   "id": "b4cfec14",
   "metadata": {},
   "outputs": [
    {
     "data": {
      "text/plain": [
       "'tree_employee.dot.pdf'"
      ]
     },
     "execution_count": 41,
     "metadata": {},
     "output_type": "execute_result"
    }
   ],
   "source": [
    "import graphviz\n",
    "from sklearn.tree import DecisionTreeClassifier\n",
    "from sklearn.tree import export_graphviz\n",
    "from graphviz import Source\n",
    "  \n",
    "data_dummy = pandas.get_dummies(data[['company_id', 'dept', 'seniority', 'salary', 'early_quitter']], drop_first=True)           \n",
    "  \n",
    "#we are not too interested in predictive power, we are mainly using the tree as a descriptive stat tool\n",
    "tree = DecisionTreeClassifier( max_depth=4, min_samples_leaf = 30, class_weight=\"balanced\", min_impurity_decrease = 0.001)\n",
    "tree.fit(data_dummy.drop('early_quitter', axis=1), data['early_quitter'])\n",
    "  \n",
    "#visualize it\n",
    "export_graphviz(tree, out_file=\"tree_employee.dot\", feature_names=data_dummy.drop('early_quitter', axis=1).columns, proportion=True, rotate=True)\n",
    "with open(\"tree_employee.dot\") as f:\n",
    "    dot_graph = f.read()\n",
    "s = Source.from_file(\"tree_employee.dot\")\n",
    "s.view()"
   ]
  },
  {
   "cell_type": "markdown",
   "id": "1bfafdd8",
   "metadata": {},
   "source": [
    "Not very surprising! Salary is what matters the most. After all, it probably has within it information about the other variables too. That is, seniority, dept and company impact salary. So salary carries pretty much all the information available.\n",
    "\n",
    "It is interesting though that, looking at the terminal nodes, the way the tree split is: If salary between 224500 and 62500, the employee has higher probability of being an early quitter. That is, that’s a leaf that predicts class 1. Otherwise, the other two nodes predict class 0, which are >224500 and <62500. That means that <b>people who make a lot of money and very little are not likely to quit</b> (“little money” by Silicon Valley standards)."
   ]
  },
  {
   "cell_type": "markdown",
   "id": "dbc1e59a",
   "metadata": {},
   "source": [
    "By plotting the proportion of early quitters by salary percentile, this becomes quite clear:"
   ]
  },
  {
   "cell_type": "code",
   "execution_count": 45,
   "id": "3f367e61",
   "metadata": {},
   "outputs": [
    {
     "data": {
      "image/png": "[encoded data removed]",
      "text/plain": [
       "<Figure size 432x288 with 1 Axes>"
      ]
     },
     "metadata": {
      "needs_background": "light"
     },
     "output_type": "display_data"
    }
   ],
   "source": [
    "#convert salary to its percentiles. We break it into 50 bins.\n",
    "data['salary_percentile'] = pandas.qcut(data['salary'],q=50, labels=False)\n",
    "#take proportion of early quitters for each percentile value and plot it\n",
    "data.groupby('salary_percentile')['early_quitter'].mean().plot(title=\"Proportion of early quitters\")\n",
    "plt.show()"
   ]
  },
  {
   "cell_type": "markdown",
   "id": "ac68b232",
   "metadata": {},
   "source": [
    "## Conclusions\n",
    "\n",
    "\n",
    "\n",
    "1. Given how important is salary, I would definitely love to have as a variable the salary the employee who quit was offered in the next job. Otherwise, things like: promotions or raises received during the employee tenure would be interesting. Understanding the trajectory of someone via their salaries at different time points could be really useful.\n",
    "\n",
    "\n",
    "2. Employees tend to quit at year anniversaries. Even if you don’t like your current job, you often stay for 1 yr before quitting + you often get stocks after 1 yr so it makes sense to wait.\n",
    "\n",
    "\n",
    "3. Employees with low and high salaries are less likely to quit. Probably because employees with high salaries are happy there and employees with low salaries are not that marketable, so they have a harder time finding a new job. Obviously, those are totally different situations.\n",
    "\n",
    "\n",
    "4. When building machine learning models on real data, you will find surprisingly often that one variable is way more important than the rest. We saw it in the conversion project too with number of pages visited. It is unlikely though that in real life one thing can explain complex phenomena. The most likely reason is that one variable is highly correlated with a lot of other variables. Like here, salary is obviously important, but especially because it is a proxy for so many other things (seniority, how marketable is someone, how much that person feels appreciated at work, etc). In these cases, assuming you have access to many other variables, try to get to the bottom of these relationships, by for instance building a model that predicts salary or removing salary and see which variables start to matter. After all, our model says that low salaries are less likely to quit. But definitely, it is not that if you reduce all salaries below 60K, retention will go up…"
   ]
  },
  {
   "cell_type": "code",
   "execution_count": null,
   "id": "e6af5a58",
   "metadata": {},
   "outputs": [],
   "source": []
  }
 ],
 "metadata": {
  "kernelspec": {
   "display_name": "Python 3 (ipykernel)",
   "language": "python",
   "name": "python3"
  },
  "language_info": {
   "codemirror_mode": {
    "name": "ipython",
    "version": 3
   },
   "file_extension": ".py",
   "mimetype": "text/x-python",
   "name": "python",
   "nbconvert_exporter": "python",
   "pygments_lexer": "ipython3",
   "version": "3.9.7"
  }
 },
 "nbformat": 4,
 "nbformat_minor": 5
}
