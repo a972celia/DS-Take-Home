{
 "cells": [
  {
   "cell_type": "markdown",
   "id": "3c633533",
   "metadata": {},
   "source": [
    "# Spanish Translation - A/B Testing"
   ]
  },
  {
   "cell_type": "markdown",
   "id": "d94b911d",
   "metadata": {},
   "source": [
    "## Goal\n",
    "\n",
    "\n",
    "<p>A/B tests play a huge role in website optimization. Analyzing A/B tests data is a very important data scientist responsibility. Especially, data scientists have to make sure that results are reliable, trustworthy and conclusions can be drawn.</p>\n",
    "\n",
    "<p>Furthermore, companies often run tens, if not hundreds, of A/B tests at the same time. Manually analyzing all of them would require lot of time and people. Therefore, it is common practice to look at the typical A/B test analysis steps and try to automate as much as possible. This frees up time for the data scientist to work on more high level topics.</p>\n"
   ]
  },
  {
   "cell_type": "markdown",
   "id": "7c987973",
   "metadata": {},
   "source": [
    "## Challenge Description\n",
    "\n",
    "\n",
    "Company XYZ is a worldwide e-commerce site with localized versions of the site.\n",
    "\n",
    "A data scientist at XYZ noticed that Spain-based users have a much higher conversion rate than any other Spanish-speaking country.\n",
    "\n",
    "Spain and LatAm country manager suggested that one reason could be translation. All Spanish-speaking countries had the same translation of the site which was written by a Spaniard. Therefore, they agreed to try a test where each country would have its own translation written by a local. That is, Argentinian users would see a translation written by an Argentinian, Mexican users written by a Mexican and so on. Obviously, nothing would change for users from Spain.\n",
    "\n",
    "After they run the test however, they are really surprised because the test is negative. That is, it appears that the non-highly localized translation was doing better!\n",
    "\n",
    "You are asked to:\n",
    "\n",
    "- Confirm that test is actually negative. I.e., the old version of the site with just one translation across Spain and LatAm performs better\n",
    "\n",
    "- Explain why that might be happening. Are the localized translations really worse?\n",
    "\n",
    "- If you identified what was wrong, design an algorithm that would return FALSE if the same problem is happening in the future and TRUE if everything is good and results can be trusted.\n"
   ]
  },
  {
   "cell_type": "markdown",
   "id": "e57c8ce9",
   "metadata": {},
   "source": [
    "> test_table - general information about the test results\n",
    ">\n",
    "> Columns:\n",
    ">\n",
    "> - user_id: the id of the user. Unique by user. Can be joined to user id in the other table. For each user, we just check whether conversion happens the first time they land on the site since the test started.\n",
    "> - date : when they came to the site for the first time since the test started\n",
    "> - source : marketing channel: Ads, SEO, Direct. Direct means everything except for ads and SEO, such as directly typing site URL on the browser, downloading the app w/o coming from SEO or Ads, referral friend, etc.\n",
    "> - device : device used by the user. It can be mobile or web\n",
    "> - browser_language : in browser or app settings, the language chosen by the user. It can be EN, ES, Other (Other means any language except for English and Spanish)\n",
    "> - ads_channel : if marketing channel is ads, this is the site where the ad was displayed. It can be: Google, Facebook, Bing, Yahoo ,Other. If the user didn’t come via an ad, this field is NA\n",
    "> - browser : user browser. It can be: IE, Chrome, Android_App, FireFox, Iphone_App, Safari, Opera\n",
    "> - conversion : whether the user converted (1) or not (0). This is our label. A test is considered successful if it increases the proportion of users who convert.\n",
    "> - test : users are randomly split into test (1) and control (0). Test users see the new translation and control the old one. For Spain-based users, this is obviously always 0 since there is no change there."
   ]
  },
  {
   "cell_type": "markdown",
   "id": "219a24a2",
   "metadata": {},
   "source": [
    "> user_table - some information about the user\n",
    "> \n",
    "> Columns:\n",
    ">\n",
    "> - user_id : the id of the user. It can be joined to user id in the other table\n",
    "> - sex : user sex: Male or Female\n",
    "> - age : user age (self-reported)\n",
    "> - country : user country based on ip address"
   ]
  },
  {
   "cell_type": "markdown",
   "id": "293a5f13",
   "metadata": {},
   "source": [
    "## Solution\n",
    "\n",
    "\n",
    "A crucial assumption behind an A/B test is that the only difference between test and control has to be the feature we are testing. This implies that test and control user distributions are comparable. If this is true, we can then exactly estimate the impact of the feature change on whichever metric we are testing.\n",
    "\n",
    "\n",
    "Comparable test and control user distribution means that, for each relevant segment, the relative proportion of users in test and control is similar. That is, if US users are 10% of users in the test group, we expect to also have ~10% of US users in control. If we have 50% of repeat users in test, we should have a similar percentage in control, and so on.\n",
    "\n",
    "From a purely statistical standpoint, the above should be true over a large enough number of users. And in A/B testing, we are looking for very small gains, so sample size is large, and, therefore, test and control distributions should be the same.\n",
    "\n",
    "\n",
    "In practice, it is pretty frequent that test and control distributions are different, invalidating the test results. The number one reason for that is bugs or bias in the randomization algorithm that assigns users to test and control, leading to over/under representation of certain segments. That is, we might have more US users in control, but those users have higher conversion rate, so the difference we see in the metric is not only affected by the feature change that we are testing.\n",
    "\n",
    "\n",
    "It is therefore extremely important to check that test and control distributions are similar before doing the statistical test. Let’s see how."
   ]
  },
  {
   "cell_type": "code",
   "execution_count": 44,
   "id": "afb30666",
   "metadata": {},
   "outputs": [
    {
     "name": "stdout",
     "output_type": "stream",
     "text": [
      "(452867, 4)\n"
     ]
    }
   ],
   "source": [
    "import pandas as pd\n",
    "pd.set_option('display.max_columns', 20)\n",
    "pd.set_option('display.width', 250)\n",
    "  \n",
    "#read data\n",
    "user = pd.read_csv(\"/Users/Celia/work_venv/ TakeHomeDataChallenges/Translation_Test/user_table.csv\")\n",
    "test = pd.read_csv(\"/Users/Celia/work_venv/ TakeHomeDataChallenges/Translation_Test/test_table.csv\")\n",
    "  \n",
    "print(user.shape)"
   ]
  },
  {
   "cell_type": "code",
   "execution_count": 12,
   "id": "c13d97a0",
   "metadata": {},
   "outputs": [
    {
     "name": "stdout",
     "output_type": "stream",
     "text": [
      "True\n"
     ]
    }
   ],
   "source": [
    "#let's check that data makes sense\n",
    "  \n",
    "print(test['user_id'].nunique()==len(test['user_id']))"
   ]
  },
  {
   "cell_type": "code",
   "execution_count": 13,
   "id": "238b54af",
   "metadata": {},
   "outputs": [
    {
     "name": "stdout",
     "output_type": "stream",
     "text": [
      "True\n"
     ]
    }
   ],
   "source": [
    "print(user['user_id'].nunique()==len(user['user_id']))"
   ]
  },
  {
   "cell_type": "code",
   "execution_count": 14,
   "id": "954bcd54",
   "metadata": {},
   "outputs": [
    {
     "name": "stdout",
     "output_type": "stream",
     "text": [
      "-454\n"
     ]
    }
   ],
   "source": [
    "print(len(user['user_id']) - len(test['user_id']))"
   ]
  },
  {
   "cell_type": "markdown",
   "id": "c246c955",
   "metadata": {},
   "source": [
    "Looks like the user table is busted and we have some user ids missing. It is so few values that we can safely get rid of those with an inner join. Nothing will change. However, separately, we should still try to find out why that happened. There might be some bug somewhere."
   ]
  },
  {
   "cell_type": "code",
   "execution_count": 24,
   "id": "1da389ac",
   "metadata": {},
   "outputs": [],
   "source": [
    "from datetime import datetime"
   ]
  },
  {
   "cell_type": "code",
   "execution_count": 27,
   "id": "db59c06b",
   "metadata": {},
   "outputs": [],
   "source": [
    "# join\n",
    "data = test.merge(user, on=['user_id'])"
   ]
  },
  {
   "cell_type": "code",
   "execution_count": 28,
   "id": "98377401",
   "metadata": {},
   "outputs": [
    {
     "data": {
      "text/html": [
       "<div>\n",
       "<style scoped>\n",
       "    .dataframe tbody tr th:only-of-type {\n",
       "        vertical-align: middle;\n",
       "    }\n",
       "\n",
       "    .dataframe tbody tr th {\n",
       "        vertical-align: top;\n",
       "    }\n",
       "\n",
       "    .dataframe thead th {\n",
       "        text-align: right;\n",
       "    }\n",
       "</style>\n",
       "<table border=\"1\" class=\"dataframe\">\n",
       "  <thead>\n",
       "    <tr style=\"text-align: right;\">\n",
       "      <th></th>\n",
       "      <th>user_id</th>\n",
       "      <th>date</th>\n",
       "      <th>source</th>\n",
       "      <th>device</th>\n",
       "      <th>browser_language</th>\n",
       "      <th>ads_channel</th>\n",
       "      <th>browser</th>\n",
       "      <th>conversion</th>\n",
       "      <th>test</th>\n",
       "      <th>sex</th>\n",
       "      <th>age</th>\n",
       "      <th>country</th>\n",
       "    </tr>\n",
       "  </thead>\n",
       "  <tbody>\n",
       "    <tr>\n",
       "      <th>0</th>\n",
       "      <td>315281</td>\n",
       "      <td>2015-12-03</td>\n",
       "      <td>Direct</td>\n",
       "      <td>Web</td>\n",
       "      <td>ES</td>\n",
       "      <td>NaN</td>\n",
       "      <td>IE</td>\n",
       "      <td>1</td>\n",
       "      <td>0</td>\n",
       "      <td>M</td>\n",
       "      <td>32</td>\n",
       "      <td>Spain</td>\n",
       "    </tr>\n",
       "    <tr>\n",
       "      <th>1</th>\n",
       "      <td>497851</td>\n",
       "      <td>2015-12-04</td>\n",
       "      <td>Ads</td>\n",
       "      <td>Web</td>\n",
       "      <td>ES</td>\n",
       "      <td>Google</td>\n",
       "      <td>IE</td>\n",
       "      <td>0</td>\n",
       "      <td>1</td>\n",
       "      <td>M</td>\n",
       "      <td>21</td>\n",
       "      <td>Mexico</td>\n",
       "    </tr>\n",
       "    <tr>\n",
       "      <th>2</th>\n",
       "      <td>848402</td>\n",
       "      <td>2015-12-04</td>\n",
       "      <td>Ads</td>\n",
       "      <td>Web</td>\n",
       "      <td>ES</td>\n",
       "      <td>Facebook</td>\n",
       "      <td>Chrome</td>\n",
       "      <td>0</td>\n",
       "      <td>0</td>\n",
       "      <td>M</td>\n",
       "      <td>34</td>\n",
       "      <td>Spain</td>\n",
       "    </tr>\n",
       "    <tr>\n",
       "      <th>3</th>\n",
       "      <td>290051</td>\n",
       "      <td>2015-12-03</td>\n",
       "      <td>Ads</td>\n",
       "      <td>Mobile</td>\n",
       "      <td>Other</td>\n",
       "      <td>Facebook</td>\n",
       "      <td>Android_App</td>\n",
       "      <td>0</td>\n",
       "      <td>1</td>\n",
       "      <td>F</td>\n",
       "      <td>22</td>\n",
       "      <td>Mexico</td>\n",
       "    </tr>\n",
       "    <tr>\n",
       "      <th>4</th>\n",
       "      <td>548435</td>\n",
       "      <td>2015-11-30</td>\n",
       "      <td>Ads</td>\n",
       "      <td>Web</td>\n",
       "      <td>ES</td>\n",
       "      <td>Google</td>\n",
       "      <td>FireFox</td>\n",
       "      <td>0</td>\n",
       "      <td>1</td>\n",
       "      <td>M</td>\n",
       "      <td>19</td>\n",
       "      <td>Mexico</td>\n",
       "    </tr>\n",
       "  </tbody>\n",
       "</table>\n",
       "</div>"
      ],
      "text/plain": [
       "   user_id        date  source  device browser_language ads_channel      browser  conversion  test sex  age country\n",
       "0   315281  2015-12-03  Direct     Web               ES         NaN           IE           1     0   M   32   Spain\n",
       "1   497851  2015-12-04     Ads     Web               ES      Google           IE           0     1   M   21  Mexico\n",
       "2   848402  2015-12-04     Ads     Web               ES    Facebook       Chrome           0     0   M   34   Spain\n",
       "3   290051  2015-12-03     Ads  Mobile            Other    Facebook  Android_App           0     1   F   22  Mexico\n",
       "4   548435  2015-11-30     Ads     Web               ES      Google      FireFox           0     1   M   19  Mexico"
      ]
     },
     "execution_count": 28,
     "metadata": {},
     "output_type": "execute_result"
    }
   ],
   "source": [
    "data.head()"
   ]
  },
  {
   "cell_type": "code",
   "execution_count": 29,
   "id": "1d2790a2",
   "metadata": {},
   "outputs": [],
   "source": [
    "# make it a date\n",
    "data[\"date\"] = pd.to_datetime(data[\"date\"])"
   ]
  },
  {
   "cell_type": "code",
   "execution_count": 32,
   "id": "67ce21f0",
   "metadata": {},
   "outputs": [
    {
     "name": "stderr",
     "output_type": "stream",
     "text": [
      "/var/folders/cx/bjmhwqx17hs884fsv84_cckh0000gn/T/ipykernel_21989/4280773600.py:1: FutureWarning: Treating datetime data as categorical rather than numeric in `.describe` is deprecated and will be removed in a future version of pandas. Specify `datetime_is_numeric=True` to silence this warning and adopt the future behavior now.\n",
      "  data.describe(include = 'all')\n"
     ]
    },
    {
     "data": {
      "text/html": [
       "<div>\n",
       "<style scoped>\n",
       "    .dataframe tbody tr th:only-of-type {\n",
       "        vertical-align: middle;\n",
       "    }\n",
       "\n",
       "    .dataframe tbody tr th {\n",
       "        vertical-align: top;\n",
       "    }\n",
       "\n",
       "    .dataframe thead th {\n",
       "        text-align: right;\n",
       "    }\n",
       "</style>\n",
       "<table border=\"1\" class=\"dataframe\">\n",
       "  <thead>\n",
       "    <tr style=\"text-align: right;\">\n",
       "      <th></th>\n",
       "      <th>user_id</th>\n",
       "      <th>date</th>\n",
       "      <th>source</th>\n",
       "      <th>device</th>\n",
       "      <th>browser_language</th>\n",
       "      <th>ads_channel</th>\n",
       "      <th>browser</th>\n",
       "      <th>conversion</th>\n",
       "      <th>test</th>\n",
       "      <th>sex</th>\n",
       "      <th>age</th>\n",
       "      <th>country</th>\n",
       "    </tr>\n",
       "  </thead>\n",
       "  <tbody>\n",
       "    <tr>\n",
       "      <th>count</th>\n",
       "      <td>452867.000000</td>\n",
       "      <td>452867</td>\n",
       "      <td>452867</td>\n",
       "      <td>452867</td>\n",
       "      <td>452867</td>\n",
       "      <td>181693</td>\n",
       "      <td>452867</td>\n",
       "      <td>452867.000000</td>\n",
       "      <td>452867.000000</td>\n",
       "      <td>452867</td>\n",
       "      <td>452867.000000</td>\n",
       "      <td>452867</td>\n",
       "    </tr>\n",
       "    <tr>\n",
       "      <th>unique</th>\n",
       "      <td>NaN</td>\n",
       "      <td>5</td>\n",
       "      <td>3</td>\n",
       "      <td>2</td>\n",
       "      <td>3</td>\n",
       "      <td>5</td>\n",
       "      <td>7</td>\n",
       "      <td>NaN</td>\n",
       "      <td>NaN</td>\n",
       "      <td>2</td>\n",
       "      <td>NaN</td>\n",
       "      <td>17</td>\n",
       "    </tr>\n",
       "    <tr>\n",
       "      <th>top</th>\n",
       "      <td>NaN</td>\n",
       "      <td>2015-12-04 00:00:00</td>\n",
       "      <td>Ads</td>\n",
       "      <td>Web</td>\n",
       "      <td>ES</td>\n",
       "      <td>Facebook</td>\n",
       "      <td>Android_App</td>\n",
       "      <td>NaN</td>\n",
       "      <td>NaN</td>\n",
       "      <td>M</td>\n",
       "      <td>NaN</td>\n",
       "      <td>Mexico</td>\n",
       "    </tr>\n",
       "    <tr>\n",
       "      <th>freq</th>\n",
       "      <td>NaN</td>\n",
       "      <td>141024</td>\n",
       "      <td>181693</td>\n",
       "      <td>251316</td>\n",
       "      <td>377160</td>\n",
       "      <td>68358</td>\n",
       "      <td>154977</td>\n",
       "      <td>NaN</td>\n",
       "      <td>NaN</td>\n",
       "      <td>264485</td>\n",
       "      <td>NaN</td>\n",
       "      <td>128484</td>\n",
       "    </tr>\n",
       "    <tr>\n",
       "      <th>first</th>\n",
       "      <td>NaN</td>\n",
       "      <td>2015-11-30 00:00:00</td>\n",
       "      <td>NaN</td>\n",
       "      <td>NaN</td>\n",
       "      <td>NaN</td>\n",
       "      <td>NaN</td>\n",
       "      <td>NaN</td>\n",
       "      <td>NaN</td>\n",
       "      <td>NaN</td>\n",
       "      <td>NaN</td>\n",
       "      <td>NaN</td>\n",
       "      <td>NaN</td>\n",
       "    </tr>\n",
       "    <tr>\n",
       "      <th>last</th>\n",
       "      <td>NaN</td>\n",
       "      <td>2015-12-04 00:00:00</td>\n",
       "      <td>NaN</td>\n",
       "      <td>NaN</td>\n",
       "      <td>NaN</td>\n",
       "      <td>NaN</td>\n",
       "      <td>NaN</td>\n",
       "      <td>NaN</td>\n",
       "      <td>NaN</td>\n",
       "      <td>NaN</td>\n",
       "      <td>NaN</td>\n",
       "      <td>NaN</td>\n",
       "    </tr>\n",
       "    <tr>\n",
       "      <th>mean</th>\n",
       "      <td>499944.805166</td>\n",
       "      <td>NaN</td>\n",
       "      <td>NaN</td>\n",
       "      <td>NaN</td>\n",
       "      <td>NaN</td>\n",
       "      <td>NaN</td>\n",
       "      <td>NaN</td>\n",
       "      <td>0.049560</td>\n",
       "      <td>0.476462</td>\n",
       "      <td>NaN</td>\n",
       "      <td>27.130740</td>\n",
       "      <td>NaN</td>\n",
       "    </tr>\n",
       "    <tr>\n",
       "      <th>std</th>\n",
       "      <td>288676.264784</td>\n",
       "      <td>NaN</td>\n",
       "      <td>NaN</td>\n",
       "      <td>NaN</td>\n",
       "      <td>NaN</td>\n",
       "      <td>NaN</td>\n",
       "      <td>NaN</td>\n",
       "      <td>0.217034</td>\n",
       "      <td>0.499446</td>\n",
       "      <td>NaN</td>\n",
       "      <td>6.776678</td>\n",
       "      <td>NaN</td>\n",
       "    </tr>\n",
       "    <tr>\n",
       "      <th>min</th>\n",
       "      <td>1.000000</td>\n",
       "      <td>NaN</td>\n",
       "      <td>NaN</td>\n",
       "      <td>NaN</td>\n",
       "      <td>NaN</td>\n",
       "      <td>NaN</td>\n",
       "      <td>NaN</td>\n",
       "      <td>0.000000</td>\n",
       "      <td>0.000000</td>\n",
       "      <td>NaN</td>\n",
       "      <td>18.000000</td>\n",
       "      <td>NaN</td>\n",
       "    </tr>\n",
       "    <tr>\n",
       "      <th>25%</th>\n",
       "      <td>249819.000000</td>\n",
       "      <td>NaN</td>\n",
       "      <td>NaN</td>\n",
       "      <td>NaN</td>\n",
       "      <td>NaN</td>\n",
       "      <td>NaN</td>\n",
       "      <td>NaN</td>\n",
       "      <td>0.000000</td>\n",
       "      <td>0.000000</td>\n",
       "      <td>NaN</td>\n",
       "      <td>22.000000</td>\n",
       "      <td>NaN</td>\n",
       "    </tr>\n",
       "    <tr>\n",
       "      <th>50%</th>\n",
       "      <td>500019.000000</td>\n",
       "      <td>NaN</td>\n",
       "      <td>NaN</td>\n",
       "      <td>NaN</td>\n",
       "      <td>NaN</td>\n",
       "      <td>NaN</td>\n",
       "      <td>NaN</td>\n",
       "      <td>0.000000</td>\n",
       "      <td>0.000000</td>\n",
       "      <td>NaN</td>\n",
       "      <td>26.000000</td>\n",
       "      <td>NaN</td>\n",
       "    </tr>\n",
       "    <tr>\n",
       "      <th>75%</th>\n",
       "      <td>749543.000000</td>\n",
       "      <td>NaN</td>\n",
       "      <td>NaN</td>\n",
       "      <td>NaN</td>\n",
       "      <td>NaN</td>\n",
       "      <td>NaN</td>\n",
       "      <td>NaN</td>\n",
       "      <td>0.000000</td>\n",
       "      <td>1.000000</td>\n",
       "      <td>NaN</td>\n",
       "      <td>31.000000</td>\n",
       "      <td>NaN</td>\n",
       "    </tr>\n",
       "    <tr>\n",
       "      <th>max</th>\n",
       "      <td>1000000.000000</td>\n",
       "      <td>NaN</td>\n",
       "      <td>NaN</td>\n",
       "      <td>NaN</td>\n",
       "      <td>NaN</td>\n",
       "      <td>NaN</td>\n",
       "      <td>NaN</td>\n",
       "      <td>1.000000</td>\n",
       "      <td>1.000000</td>\n",
       "      <td>NaN</td>\n",
       "      <td>70.000000</td>\n",
       "      <td>NaN</td>\n",
       "    </tr>\n",
       "  </tbody>\n",
       "</table>\n",
       "</div>"
      ],
      "text/plain": [
       "               user_id                 date  source  device browser_language ads_channel      browser     conversion           test     sex            age country\n",
       "count    452867.000000               452867  452867  452867           452867      181693       452867  452867.000000  452867.000000  452867  452867.000000  452867\n",
       "unique             NaN                    5       3       2                3           5            7            NaN            NaN       2            NaN      17\n",
       "top                NaN  2015-12-04 00:00:00     Ads     Web               ES    Facebook  Android_App            NaN            NaN       M            NaN  Mexico\n",
       "freq               NaN               141024  181693  251316           377160       68358       154977            NaN            NaN  264485            NaN  128484\n",
       "first              NaN  2015-11-30 00:00:00     NaN     NaN              NaN         NaN          NaN            NaN            NaN     NaN            NaN     NaN\n",
       "last               NaN  2015-12-04 00:00:00     NaN     NaN              NaN         NaN          NaN            NaN            NaN     NaN            NaN     NaN\n",
       "mean     499944.805166                  NaN     NaN     NaN              NaN         NaN          NaN       0.049560       0.476462     NaN      27.130740     NaN\n",
       "std      288676.264784                  NaN     NaN     NaN              NaN         NaN          NaN       0.217034       0.499446     NaN       6.776678     NaN\n",
       "min           1.000000                  NaN     NaN     NaN              NaN         NaN          NaN       0.000000       0.000000     NaN      18.000000     NaN\n",
       "25%      249819.000000                  NaN     NaN     NaN              NaN         NaN          NaN       0.000000       0.000000     NaN      22.000000     NaN\n",
       "50%      500019.000000                  NaN     NaN     NaN              NaN         NaN          NaN       0.000000       0.000000     NaN      26.000000     NaN\n",
       "75%      749543.000000                  NaN     NaN     NaN              NaN         NaN          NaN       0.000000       1.000000     NaN      31.000000     NaN\n",
       "max     1000000.000000                  NaN     NaN     NaN              NaN         NaN          NaN       1.000000       1.000000     NaN      70.000000     NaN"
      ]
     },
     "execution_count": 32,
     "metadata": {},
     "output_type": "execute_result"
    }
   ],
   "source": [
    "data.describe(include = 'all')"
   ]
  },
  {
   "cell_type": "markdown",
   "id": "48120b17",
   "metadata": {},
   "source": [
    "First question is about checking the test results. But even before that, let’s make sure it is true Spain converts much better than LatAm countries."
   ]
  },
  {
   "cell_type": "code",
   "execution_count": 18,
   "id": "34d0c37b",
   "metadata": {},
   "outputs": [
    {
     "name": "stdout",
     "output_type": "stream",
     "text": [
      "country\n",
      "Spain          0.079719\n",
      "El Salvador    0.053554\n",
      "Nicaragua      0.052647\n",
      "Costa Rica     0.052256\n",
      "Colombia       0.052089\n",
      "Honduras       0.050906\n",
      "Guatemala      0.050643\n",
      "Venezuela      0.050344\n",
      "Peru           0.049914\n",
      "Mexico         0.049495\n",
      "Bolivia        0.049369\n",
      "Ecuador        0.049154\n",
      "Paraguay       0.048493\n",
      "Chile          0.048107\n",
      "Panama         0.046796\n",
      "Argentina      0.015071\n",
      "Uruguay        0.012048\n",
      "Name: conversion, dtype: float64\n"
     ]
    }
   ],
   "source": [
    "country_conversion = data.query('test == 0').groupby('country')['conversion'].mean()\n",
    "  \n",
    "print(country_conversion.sort_values(ascending=False))"
   ]
  },
  {
   "cell_type": "code",
   "execution_count": 19,
   "id": "54d1b27a",
   "metadata": {},
   "outputs": [
    {
     "name": "stdout",
     "output_type": "stream",
     "text": [
      "test\n",
      "0    0.048292\n",
      "1    0.043411\n",
      "Name: conversion, dtype: float64\n"
     ]
    }
   ],
   "source": [
    "#a simple t-test here should work. We have collected ~0.5MM data and test/control split is ~50/50.\n",
    "from scipy import stats\n",
    "  \n",
    "#nothing changed in Spain, so no point in keeping those users\n",
    "data = data.query('country != \"Spain\"') \n",
    "  \n",
    "#t-test of test vs control for our target metric \n",
    "test = stats.ttest_ind(data[data['test'] == 1]['conversion'], \n",
    "                       data[data['test'] == 0]['conversion'], \n",
    "                       equal_var=False\n",
    "                       )\n",
    "  \n",
    "print(data.groupby('test')['conversion'].mean())"
   ]
  },
  {
   "cell_type": "code",
   "execution_count": 20,
   "id": "06d380d1",
   "metadata": {},
   "outputs": [
    {
     "name": "stdout",
     "output_type": "stream",
     "text": [
      "-7.353895203080277\n"
     ]
    }
   ],
   "source": [
    "print(test.statistic)"
   ]
  },
  {
   "cell_type": "code",
   "execution_count": 21,
   "id": "bb281364",
   "metadata": {},
   "outputs": [
    {
     "name": "stdout",
     "output_type": "stream",
     "text": [
      "1.9289178577799033e-13\n"
     ]
    }
   ],
   "source": [
    "print(test.pvalue)"
   ]
  },
  {
   "cell_type": "markdown",
   "id": "bc51c187",
   "metadata": {},
   "source": [
    "Mmh…control users are converting at 4.8% while users in the test just at 4.3%. That’s a 10% drop, which would be dramatic if it were true. The most likely reason for weird A/B test results are:\n",
    "\n",
    "1) We didn’t collect enough data\n",
    "\n",
    "2) Some bias has been introduced in the experiment so that test/control people are not really random\n",
    "\n",
    "\n",
    "In data science, whenever results appear too bad or too good to be true, they are not true.\n",
    "\n",
    "Firstly, let’s plot day by day, to see if these weird results have been constantly happening or they just started happening all of a sudden."
   ]
  },
  {
   "cell_type": "code",
   "execution_count": 23,
   "id": "e0e3cbec",
   "metadata": {},
   "outputs": [],
   "source": [
    "import matplotlib.pyplot as plt"
   ]
  },
  {
   "cell_type": "code",
   "execution_count": 34,
   "id": "48e9fb9d",
   "metadata": {},
   "outputs": [],
   "source": [
    "data_test_by_day = data.groupby(\"date\")[\"conversion\"]"
   ]
  },
  {
   "cell_type": "code",
   "execution_count": 37,
   "id": "a26ce2bf",
   "metadata": {},
   "outputs": [
    {
     "data": {
      "image/png": "[encoded data removed]",
      "text/plain": [
       "<Figure size 432x288 with 1 Axes>"
      ]
     },
     "metadata": {
      "needs_background": "light"
     },
     "output_type": "display_data"
    }
   ],
   "source": [
    "#compare test and control conversion rate by day and plot it\n",
    "data_test_by_day = data.groupby(\"date\")[\"conversion\"].agg(\n",
    "test_vs_control = (lambda x: x[data[\"test\"]==1].mean()/x[data[\"test\"]==0].mean()) \n",
    ").plot()"
   ]
  },
  {
   "cell_type": "markdown",
   "id": "89cd558f",
   "metadata": {},
   "source": [
    "From the plot, we notice a couple of things:\n",
    "\n",
    "\n",
    "1. Test has constantly been worse than control and there is relatively little variance across days. That probably means that we do have enough data, but there was some bias in the experiment set up\n",
    "\n",
    "\n",
    "2. As a side note, we just ran it for 5 days. We should always run the test for at least 1 full week to capture weekly patterns, 2 weeks would be much better\n",
    "\n",
    "\n",
    "Time to find out the bias! Likely, there is some segment of users more likely to end up in test or in control. This segment had a significantly above/below conversion rate and this affected the overall results."
   ]
  },
  {
   "cell_type": "markdown",
   "id": "ea025599",
   "metadata": {},
   "source": [
    "## Check A/B Test Randomization"
   ]
  },
  {
   "cell_type": "code",
   "execution_count": 38,
   "id": "2eb50765",
   "metadata": {},
   "outputs": [],
   "source": [
    "#let's group by source and estimate relative frequencies\n",
    "data_grouped_source = data.groupby(\"source\")[\"test\"].agg(\n",
    "frequency_test_0 = (lambda x: len(x[x==0])) , \n",
    "frequency_test_1 = (lambda x: len(x[x==1])) \n",
    ")"
   ]
  },
  {
   "cell_type": "code",
   "execution_count": 39,
   "id": "40a15af1",
   "metadata": {},
   "outputs": [
    {
     "data": {
      "text/html": [
       "<div>\n",
       "<style scoped>\n",
       "    .dataframe tbody tr th:only-of-type {\n",
       "        vertical-align: middle;\n",
       "    }\n",
       "\n",
       "    .dataframe tbody tr th {\n",
       "        vertical-align: top;\n",
       "    }\n",
       "\n",
       "    .dataframe thead th {\n",
       "        text-align: right;\n",
       "    }\n",
       "</style>\n",
       "<table border=\"1\" class=\"dataframe\">\n",
       "  <thead>\n",
       "    <tr style=\"text-align: right;\">\n",
       "      <th></th>\n",
       "      <th>frequency_test_0</th>\n",
       "      <th>frequency_test_1</th>\n",
       "    </tr>\n",
       "    <tr>\n",
       "      <th>source</th>\n",
       "      <th></th>\n",
       "      <th></th>\n",
       "    </tr>\n",
       "  </thead>\n",
       "  <tbody>\n",
       "    <tr>\n",
       "      <th>Ads</th>\n",
       "      <td>0.401720</td>\n",
       "      <td>0.400641</td>\n",
       "    </tr>\n",
       "    <tr>\n",
       "      <th>Direct</th>\n",
       "      <td>0.201149</td>\n",
       "      <td>0.199500</td>\n",
       "    </tr>\n",
       "    <tr>\n",
       "      <th>SEO</th>\n",
       "      <td>0.397131</td>\n",
       "      <td>0.399858</td>\n",
       "    </tr>\n",
       "  </tbody>\n",
       "</table>\n",
       "</div>"
      ],
      "text/plain": [
       "        frequency_test_0  frequency_test_1\n",
       "source                                    \n",
       "Ads             0.401720          0.400641\n",
       "Direct          0.201149          0.199500\n",
       "SEO             0.397131          0.399858"
      ]
     },
     "execution_count": 39,
     "metadata": {},
     "output_type": "execute_result"
    }
   ],
   "source": [
    "data_grouped_source/data_grouped_source.sum()"
   ]
  },
  {
   "cell_type": "markdown",
   "id": "199f2240",
   "metadata": {},
   "source": [
    "As we can see, relative frequency of source for different segments is the same. That is, we have basically the same proportion of users coming from Ads, Direct, and SEO in both test and control.\n",
    "\n",
    "\n",
    "We could potentially keep checking all the variables like this. But it would be extremely time consuming (and boring), especially when you start considering numerical variables and categorical variables with many levels.\n",
    "\n",
    "\n",
    "So we turn this into a machine learning problem and let an algorithm do the boring work for us. The approach is:\n",
    "\n",
    "\n",
    "1. Get rid of the conversion variable for now. We don’t care about it here. We are just checking if the two user distributions are the same. This is before we check conversion rate for the groups\n",
    "\n",
    "\n",
    "2. Use the variable test as our label. Try to build a model that manages to separate the users whose test value is 0 vs those whose test value is 1. If randomization worked well, this will be impossible because the two groups are exactly the same. If all variable relative frequencies were the same as for source, no model would be able to separate test == 1 vs test == 0. If randomization did not work well, the model will manage to use a given variable to separate the two groups.\n",
    "\n",
    "\n",
    "3. As a model, pick a decision tree. This will allow you to clearly see which variable (if any) is used for the split. That’s where randomization failed."
   ]
  },
  {
   "cell_type": "code",
   "execution_count": 40,
   "id": "e2d79582",
   "metadata": {},
   "outputs": [],
   "source": [
    "import graphviz\n",
    "from sklearn.tree import DecisionTreeClassifier\n",
    "from sklearn.tree import export_graphviz\n",
    "from graphviz import Source"
   ]
  },
  {
   "cell_type": "code",
   "execution_count": 41,
   "id": "1d77baf4",
   "metadata": {},
   "outputs": [],
   "source": [
    "#make date as string, so few dates that makes sense to have them as few dummy values\n",
    "data['date'] = data['date'].apply(str)"
   ]
  },
  {
   "cell_type": "code",
   "execution_count": 45,
   "id": "bf30ca4a",
   "metadata": {},
   "outputs": [],
   "source": [
    "#make dummy vars. Don't drop one level here, keep them all. You don't want to risk dropping the one level that actually creates problems with the randomization\n",
    "data_dummy = pd.get_dummies(data)\n",
    "#model features, test is the label and conversion is not needed \n",
    "train_cols = data_dummy.drop(['test', 'conversion'], axis=1)\n"
   ]
  },
  {
   "cell_type": "code",
   "execution_count": 48,
   "id": "2867f6c9",
   "metadata": {},
   "outputs": [
    {
     "data": {
      "text/plain": [
       "'tree_test.dot.pdf'"
      ]
     },
     "execution_count": 48,
     "metadata": {},
     "output_type": "execute_result"
    }
   ],
   "source": [
    "tree=DecisionTreeClassifier(\n",
    "    #change weights. Our data set is now perfectly balanced. It makes easier to understand the tree output\n",
    "    class_weight=\"balanced\",\n",
    "    #only split if if it's worthwhile. The default value of 0 means always split no matter what if you can increase overall performance, which creates tons of noisy and irrelevant splits\n",
    "    min_impurity_decrease = 0.001\n",
    "    )\n",
    "tree.fit(train_cols,data_dummy['test'])\n",
    "  \n",
    "export_graphviz(tree, out_file=\"tree_test.dot\", feature_names=train_cols.columns, proportion=True, rotate=True)\n",
    "s = Source.from_file(\"tree_test.dot\")\n",
    "s.view()\n"
   ]
  },
  {
   "cell_type": "markdown",
   "id": "4e648e27",
   "metadata": {},
   "source": [
    "So we can see that test and control are not the same! Users from Argentina and Uruguay are way more likely to be in test than control. When country_Argentina is 1, the tree shows that users in control are ~23% and in test 77%. For Uruguay, the proportions are even more extreme: 11% in control and 89% in test! Not good!\n",
    "\n",
    "\n",
    "Let’s double check this. Let’s check proportion of Argentinian and Uruguayan users in control vs test.\n"
   ]
  },
  {
   "cell_type": "code",
   "execution_count": 49,
   "id": "1881ccb5",
   "metadata": {},
   "outputs": [
    {
     "name": "stdout",
     "output_type": "stream",
     "text": [
      "      country_Argentina  country_Uruguay\n",
      "test                                    \n",
      "0              0.039461         0.001750\n",
      "1              0.173223         0.017236\n"
     ]
    }
   ],
   "source": [
    "print(data_dummy.groupby(\"test\")[[\"country_Argentina\", \"country_Uruguay\"]].mean())"
   ]
  },
  {
   "cell_type": "markdown",
   "id": "5e943a45",
   "metadata": {},
   "source": [
    "In test, 17% of users are from Argentina, but in control only 5% of users are from Argentina. Uruguay is even more extreme: test has 1.7% of users from Uruguay and control has just 0.2% of Uruguayan users.\n",
    "\n",
    "\n",
    "And this is a big problem because that means we are not comparing anymore apples to apples in our A/B test. The difference we might see in conversion rate might very well depend on the fact that users between the two groups are different."
   ]
  },
  {
   "cell_type": "markdown",
   "id": "5805babd",
   "metadata": {},
   "source": [
    "Let’s check it in practice:"
   ]
  },
  {
   "cell_type": "code",
   "execution_count": 50,
   "id": "3d2f4814",
   "metadata": {},
   "outputs": [
    {
     "name": "stdout",
     "output_type": "stream",
     "text": [
      "                   data_type       p_value  t_statistic\n",
      "0                       Full  1.031210e-74   -18.291393\n",
      "1  Removed_Argentina_Uruguay  1.296919e-19    -9.061125\n"
     ]
    }
   ],
   "source": [
    "#this is the test results using the orginal dataset\n",
    "original_data = stats.ttest_ind(data_dummy[data['test'] == 1]['conversion'], \n",
    "                                data_dummy[data['test'] == 0]['conversion'], \n",
    "                                equal_var=False)\n",
    "  \n",
    "#this is after removing Argentina and Uruguay\n",
    "data_no_AR_UR = stats.ttest_ind(data_dummy[(data['test'] == 1) & \n",
    "                                           (data_dummy['country_Argentina'] ==  0) & \n",
    "                                           (data_dummy['country_Uruguay'] ==  0)\n",
    "                                           ]['conversion'], \n",
    "                                data_dummy[(data['test'] == 0) & \n",
    "                                           (data_dummy['country_Argentina'] ==  0) & \n",
    "                                           (data_dummy['country_Uruguay'] ==  0)\n",
    "                                           ]['conversion'], \n",
    "                                equal_var=False)\n",
    "  \n",
    "print(\n",
    "pandas.DataFrame({\"data_type\" : [\"Full\", \"Removed_Argentina_Uruguay\"], \n",
    "                  \"p_value\" : [original_data.pvalue, data_no_AR_UR.pvalue],\n",
    "                  \"t_statistic\" : [original_data.statistic, data_no_AR_UR.statistic]\n",
    "                 })\n",
    ")"
   ]
  },
  {
   "cell_type": "markdown",
   "id": "f973a908",
   "metadata": {},
   "source": [
    "Huge difference! The biased test where some countries are over/under represented is statistically significant with negative t statistics. So test is worse than control! After removing those two countries, we get non-significant results."
   ]
  },
  {
   "cell_type": "markdown",
   "id": "a475a7e3",
   "metadata": {},
   "source": [
    "We can also get to the same conclusion by checking how each country is doing taken by itself:"
   ]
  },
  {
   "cell_type": "code",
   "execution_count": 51,
   "id": "d424aeb0",
   "metadata": {},
   "outputs": [],
   "source": [
    "data_test_country = data.groupby('country')['conversion'].agg(\n",
    "                   p_value = (lambda x: stats.ttest_ind(x[data[\"test\"]==1], \n",
    "                                                        x[data[\"test\"]==0], \n",
    "                                                        equal_var=False\n",
    "                                                        ).pvalue) ,\n",
    "                   conversion_test = (lambda x: x[data[\"test\"]==1].mean()) ,\n",
    "                   conversion_control = (lambda x: x[data[\"test\"]==0].mean()) \n",
    "                   ).reindex(['p_value','conversion_test','conversion_control'], \n",
    "                                   axis=1\n",
    "                                 )"
   ]
  },
  {
   "cell_type": "code",
   "execution_count": 52,
   "id": "7f3876ae",
   "metadata": {},
   "outputs": [
    {
     "data": {
      "text/html": [
       "<div>\n",
       "<style scoped>\n",
       "    .dataframe tbody tr th:only-of-type {\n",
       "        vertical-align: middle;\n",
       "    }\n",
       "\n",
       "    .dataframe tbody tr th {\n",
       "        vertical-align: top;\n",
       "    }\n",
       "\n",
       "    .dataframe thead th {\n",
       "        text-align: right;\n",
       "    }\n",
       "</style>\n",
       "<table border=\"1\" class=\"dataframe\">\n",
       "  <thead>\n",
       "    <tr style=\"text-align: right;\">\n",
       "      <th></th>\n",
       "      <th>p_value</th>\n",
       "      <th>conversion_test</th>\n",
       "      <th>conversion_control</th>\n",
       "    </tr>\n",
       "    <tr>\n",
       "      <th>country</th>\n",
       "      <th></th>\n",
       "      <th></th>\n",
       "      <th></th>\n",
       "    </tr>\n",
       "  </thead>\n",
       "  <tbody>\n",
       "    <tr>\n",
       "      <th>Mexico</th>\n",
       "      <td>0.165544</td>\n",
       "      <td>0.051186</td>\n",
       "      <td>0.049495</td>\n",
       "    </tr>\n",
       "    <tr>\n",
       "      <th>El Salvador</th>\n",
       "      <td>0.248127</td>\n",
       "      <td>0.047947</td>\n",
       "      <td>0.053554</td>\n",
       "    </tr>\n",
       "    <tr>\n",
       "      <th>Chile</th>\n",
       "      <td>0.302848</td>\n",
       "      <td>0.051295</td>\n",
       "      <td>0.048107</td>\n",
       "    </tr>\n",
       "    <tr>\n",
       "      <th>Argentina</th>\n",
       "      <td>0.335147</td>\n",
       "      <td>0.013725</td>\n",
       "      <td>0.015071</td>\n",
       "    </tr>\n",
       "    <tr>\n",
       "      <th>Colombia</th>\n",
       "      <td>0.423719</td>\n",
       "      <td>0.050571</td>\n",
       "      <td>0.052089</td>\n",
       "    </tr>\n",
       "    <tr>\n",
       "      <th>Honduras</th>\n",
       "      <td>0.471463</td>\n",
       "      <td>0.047540</td>\n",
       "      <td>0.050906</td>\n",
       "    </tr>\n",
       "    <tr>\n",
       "      <th>Guatemala</th>\n",
       "      <td>0.572107</td>\n",
       "      <td>0.048647</td>\n",
       "      <td>0.050643</td>\n",
       "    </tr>\n",
       "    <tr>\n",
       "      <th>Venezuela</th>\n",
       "      <td>0.573702</td>\n",
       "      <td>0.048978</td>\n",
       "      <td>0.050344</td>\n",
       "    </tr>\n",
       "    <tr>\n",
       "      <th>Costa Rica</th>\n",
       "      <td>0.687876</td>\n",
       "      <td>0.054738</td>\n",
       "      <td>0.052256</td>\n",
       "    </tr>\n",
       "    <tr>\n",
       "      <th>Panama</th>\n",
       "      <td>0.705327</td>\n",
       "      <td>0.049370</td>\n",
       "      <td>0.046796</td>\n",
       "    </tr>\n",
       "    <tr>\n",
       "      <th>Bolivia</th>\n",
       "      <td>0.718885</td>\n",
       "      <td>0.047901</td>\n",
       "      <td>0.049369</td>\n",
       "    </tr>\n",
       "    <tr>\n",
       "      <th>Peru</th>\n",
       "      <td>0.771953</td>\n",
       "      <td>0.050604</td>\n",
       "      <td>0.049914</td>\n",
       "    </tr>\n",
       "    <tr>\n",
       "      <th>Nicaragua</th>\n",
       "      <td>0.780400</td>\n",
       "      <td>0.054177</td>\n",
       "      <td>0.052647</td>\n",
       "    </tr>\n",
       "    <tr>\n",
       "      <th>Uruguay</th>\n",
       "      <td>0.879764</td>\n",
       "      <td>0.012907</td>\n",
       "      <td>0.012048</td>\n",
       "    </tr>\n",
       "    <tr>\n",
       "      <th>Paraguay</th>\n",
       "      <td>0.883697</td>\n",
       "      <td>0.049229</td>\n",
       "      <td>0.048493</td>\n",
       "    </tr>\n",
       "    <tr>\n",
       "      <th>Ecuador</th>\n",
       "      <td>0.961512</td>\n",
       "      <td>0.048988</td>\n",
       "      <td>0.049154</td>\n",
       "    </tr>\n",
       "    <tr>\n",
       "      <th>Spain</th>\n",
       "      <td>NaN</td>\n",
       "      <td>NaN</td>\n",
       "      <td>0.079719</td>\n",
       "    </tr>\n",
       "  </tbody>\n",
       "</table>\n",
       "</div>"
      ],
      "text/plain": [
       "              p_value  conversion_test  conversion_control\n",
       "country                                                   \n",
       "Mexico       0.165544         0.051186            0.049495\n",
       "El Salvador  0.248127         0.047947            0.053554\n",
       "Chile        0.302848         0.051295            0.048107\n",
       "Argentina    0.335147         0.013725            0.015071\n",
       "Colombia     0.423719         0.050571            0.052089\n",
       "Honduras     0.471463         0.047540            0.050906\n",
       "Guatemala    0.572107         0.048647            0.050643\n",
       "Venezuela    0.573702         0.048978            0.050344\n",
       "Costa Rica   0.687876         0.054738            0.052256\n",
       "Panama       0.705327         0.049370            0.046796\n",
       "Bolivia      0.718885         0.047901            0.049369\n",
       "Peru         0.771953         0.050604            0.049914\n",
       "Nicaragua    0.780400         0.054177            0.052647\n",
       "Uruguay      0.879764         0.012907            0.012048\n",
       "Paraguay     0.883697         0.049229            0.048493\n",
       "Ecuador      0.961512         0.048988            0.049154\n",
       "Spain             NaN              NaN            0.079719"
      ]
     },
     "execution_count": 52,
     "metadata": {},
     "output_type": "execute_result"
    }
   ],
   "source": [
    "data_test_country.sort_values(by=['p_value'])"
   ]
  },
  {
   "cell_type": "markdown",
   "id": "7354cc9a",
   "metadata": {},
   "source": [
    "After we control for country, the test clearly appears non significant. Not a great success given that the goal was to improve conversion rate, but at least we know that a localized translation didn’t make things worse!\n"
   ]
  },
  {
   "cell_type": "code",
   "execution_count": null,
   "id": "d0e04d62",
   "metadata": {},
   "outputs": [],
   "source": []
  }
 ],
 "metadata": {
  "kernelspec": {
   "display_name": "Python 3 (ipykernel)",
   "language": "python",
   "name": "python3"
  },
  "language_info": {
   "codemirror_mode": {
    "name": "ipython",
    "version": 3
   },
   "file_extension": ".py",
   "mimetype": "text/x-python",
   "name": "python",
   "nbconvert_exporter": "python",
   "pygments_lexer": "ipython3",
   "version": "3.9.7"
  }
 },
 "nbformat": 4,
 "nbformat_minor": 5
}
