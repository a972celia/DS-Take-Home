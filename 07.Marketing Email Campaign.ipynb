{
 "cells": [
  {
   "attachments": {},
   "cell_type": "markdown",
   "metadata": {},
   "source": [
    "# Email Marketing Campaign\n",
    "\n",
    "\n",
    "## Goal\n",
    "\n",
    "\n",
    "Optimizing marketing campaigns is one of the most common data science tasks. Among the many possible marketing tools, one of the most efficient is emails.\n",
    "\n",
    "Emails are great because they are free, scalable, and can be easily personalized. Email optimization involves personalizing the text and/or the subject, who should receive it, when should be sent, etc. Machine Learning excels at this.\n",
    "\n",
    "\n",
    "## Challenge Description\n",
    "\n",
    "\n",
    "The marketing team of an e-commerce site has launched an email campaign. This site has email addresses from all the users who created an account in the past.\n",
    "\n",
    "They have chosen a random sample of users and emailed them. The email lets the user know about a new feature implemented on the site. From the marketing team perspective, success is if the user clicks on the link inside of the email. This link takes the user to the company site.\n",
    "\n",
    "You are in charge of figuring out how the email campaign performed and were asked the following questions:\n",
    "\n",
    "- What percentage of users opened the email and what percentage clicked on the link within the email?\n",
    "\n",
    "- The VP of marketing thinks that it is stupid to send emails in a random way. Based on all the information you have about the emails that were sent, can you build a model to optimize in future how to send emails to maximize the probability of users clicking on the link inside the email?\n",
    "\n",
    "- By how much do you think your model would improve click through rate (defined as # of users who click on the link/total users who receive the email). How would you test that?\n",
    "\n",
    "- Did you find any interesting pattern on how the email campaign performed for different segments of users? Explain."
   ]
  },
  {
   "cell_type": "code",
   "execution_count": 1,
   "metadata": {},
   "outputs": [
    {
     "data": {
      "text/plain": [
       "(   email_id\n",
       " 0    284534\n",
       " 1    609056\n",
       " 2    220820\n",
       " 3    905936\n",
       " 4    164034,\n",
       "    email_id   email_text email_version  hour    weekday user_country  \\\n",
       " 0     85120  short_email  personalized     2     Sunday           US   \n",
       " 1    966622   long_email  personalized    12     Sunday           UK   \n",
       " 2    777221   long_email  personalized    11  Wednesday           US   \n",
       " 3    493711  short_email       generic     6     Monday           UK   \n",
       " 4    106887   long_email       generic    14     Monday           US   \n",
       " \n",
       "    user_past_purchases  \n",
       " 0                    5  \n",
       " 1                    2  \n",
       " 2                    2  \n",
       " 3                    1  \n",
       " 4                    6  ,\n",
       "    email_id\n",
       " 0    609056\n",
       " 1    870980\n",
       " 2    935124\n",
       " 3    158501\n",
       " 4    177561)"
      ]
     },
     "execution_count": 1,
     "metadata": {},
     "output_type": "execute_result"
    }
   ],
   "source": [
    "import pandas as pd\n",
    "\n",
    "# Load the provided CSV files\n",
    "email_opened = pd.read_csv(\"./email/email_opened_table.csv\")\n",
    "email_table = pd.read_csv(\"./email/email_table.csv\")\n",
    "link_clicked = pd.read_csv(\"./email/link_clicked_table.csv\")\n",
    "\n",
    "# Display the first few rows of each table to understand the structure\n",
    "email_opened.head(), email_table.head(), link_clicked.head()"
   ]
  },
  {
   "attachments": {},
   "cell_type": "markdown",
   "metadata": {},
   "source": [
    "### 1. What percentage of users opened the email and what percentage clicked on the link within the email?\n",
    "To find these percentages, we'll calculate:\n",
    "\n",
    "- The percentage of emails opened: $\\frac{\\text{Number of emails opened}}{\\text{Total number of emails sent}} \\times 100 $\n",
    "\n",
    "- The percentage of links clicked: $ \\frac{\\text{Number of links clicked}}{\\text{Total number of emails sent}} \\times 100 $"
   ]
  },
  {
   "cell_type": "code",
   "execution_count": 2,
   "metadata": {},
   "outputs": [
    {
     "data": {
      "text/plain": [
       "(10.345, 2.119)"
      ]
     },
     "execution_count": 2,
     "metadata": {},
     "output_type": "execute_result"
    }
   ],
   "source": [
    "# Calculate the total number of emails sent\n",
    "total_emails_sent = len(email_table)\n",
    "\n",
    "# Calculate the number of emails opened\n",
    "num_emails_opened = len(email_opened)\n",
    "\n",
    "# Calculate the number of links clicked\n",
    "num_links_clicked = len(link_clicked)\n",
    "\n",
    "# Calculate the percentage of emails opened\n",
    "percent_emails_opened = (num_emails_opened / total_emails_sent) * 100\n",
    "\n",
    "# Calculate the percentage of links clicked\n",
    "percent_links_clicked = (num_links_clicked / total_emails_sent) * 100\n",
    "\n",
    "percent_emails_opened, percent_links_clicked"
   ]
  },
  {
   "attachments": {},
   "cell_type": "markdown",
   "metadata": {},
   "source": [
    "1. Approximately 10.35% of users opened the email.\n",
    "2. Approximately 2.12% of users clicked on the link within the email."
   ]
  },
  {
   "attachments": {},
   "cell_type": "markdown",
   "metadata": {},
   "source": [
    "### 2. Can we build a model to optimize in the future how to send emails to maximize the probability of users clicking on the link inside the email?\n",
    "To do this, we'll first need to preprocess our data to create a unified dataset with features that might impact the click-through rate (CTR). Then, we can build and evaluate a predictive model based on this dataset."
   ]
  },
  {
   "cell_type": "code",
   "execution_count": 3,
   "metadata": {},
   "outputs": [
    {
     "data": {
      "text/html": [
       "<div>\n",
       "<style scoped>\n",
       "    .dataframe tbody tr th:only-of-type {\n",
       "        vertical-align: middle;\n",
       "    }\n",
       "\n",
       "    .dataframe tbody tr th {\n",
       "        vertical-align: top;\n",
       "    }\n",
       "\n",
       "    .dataframe thead th {\n",
       "        text-align: right;\n",
       "    }\n",
       "</style>\n",
       "<table border=\"1\" class=\"dataframe\">\n",
       "  <thead>\n",
       "    <tr style=\"text-align: right;\">\n",
       "      <th></th>\n",
       "      <th>email_id</th>\n",
       "      <th>email_text</th>\n",
       "      <th>email_version</th>\n",
       "      <th>hour</th>\n",
       "      <th>weekday</th>\n",
       "      <th>user_country</th>\n",
       "      <th>user_past_purchases</th>\n",
       "      <th>opened</th>\n",
       "      <th>clicked</th>\n",
       "    </tr>\n",
       "  </thead>\n",
       "  <tbody>\n",
       "    <tr>\n",
       "      <th>0</th>\n",
       "      <td>85120</td>\n",
       "      <td>short_email</td>\n",
       "      <td>personalized</td>\n",
       "      <td>2</td>\n",
       "      <td>Sunday</td>\n",
       "      <td>US</td>\n",
       "      <td>5</td>\n",
       "      <td>0</td>\n",
       "      <td>0</td>\n",
       "    </tr>\n",
       "    <tr>\n",
       "      <th>1</th>\n",
       "      <td>966622</td>\n",
       "      <td>long_email</td>\n",
       "      <td>personalized</td>\n",
       "      <td>12</td>\n",
       "      <td>Sunday</td>\n",
       "      <td>UK</td>\n",
       "      <td>2</td>\n",
       "      <td>1</td>\n",
       "      <td>1</td>\n",
       "    </tr>\n",
       "    <tr>\n",
       "      <th>2</th>\n",
       "      <td>777221</td>\n",
       "      <td>long_email</td>\n",
       "      <td>personalized</td>\n",
       "      <td>11</td>\n",
       "      <td>Wednesday</td>\n",
       "      <td>US</td>\n",
       "      <td>2</td>\n",
       "      <td>0</td>\n",
       "      <td>0</td>\n",
       "    </tr>\n",
       "    <tr>\n",
       "      <th>3</th>\n",
       "      <td>493711</td>\n",
       "      <td>short_email</td>\n",
       "      <td>generic</td>\n",
       "      <td>6</td>\n",
       "      <td>Monday</td>\n",
       "      <td>UK</td>\n",
       "      <td>1</td>\n",
       "      <td>0</td>\n",
       "      <td>0</td>\n",
       "    </tr>\n",
       "    <tr>\n",
       "      <th>4</th>\n",
       "      <td>106887</td>\n",
       "      <td>long_email</td>\n",
       "      <td>generic</td>\n",
       "      <td>14</td>\n",
       "      <td>Monday</td>\n",
       "      <td>US</td>\n",
       "      <td>6</td>\n",
       "      <td>0</td>\n",
       "      <td>0</td>\n",
       "    </tr>\n",
       "  </tbody>\n",
       "</table>\n",
       "</div>"
      ],
      "text/plain": [
       "   email_id   email_text email_version  hour    weekday user_country  \\\n",
       "0     85120  short_email  personalized     2     Sunday           US   \n",
       "1    966622   long_email  personalized    12     Sunday           UK   \n",
       "2    777221   long_email  personalized    11  Wednesday           US   \n",
       "3    493711  short_email       generic     6     Monday           UK   \n",
       "4    106887   long_email       generic    14     Monday           US   \n",
       "\n",
       "   user_past_purchases  opened  clicked  \n",
       "0                    5       0        0  \n",
       "1                    2       1        1  \n",
       "2                    2       0        0  \n",
       "3                    1       0        0  \n",
       "4                    6       0        0  "
      ]
     },
     "execution_count": 3,
     "metadata": {},
     "output_type": "execute_result"
    }
   ],
   "source": [
    "# Merge the dataframes to create a unified dataset\n",
    "merged_data = email_table.merge(email_opened, on=\"email_id\", how=\"left\", indicator=\"opened\")\n",
    "merged_data = merged_data.merge(link_clicked, on=\"email_id\", how=\"left\", indicator=\"clicked\")\n",
    "\n",
    "# Create binary columns for 'opened' and 'clicked'\n",
    "merged_data[\"opened\"] = (merged_data[\"opened\"] == \"both\").astype(int)\n",
    "merged_data[\"clicked\"] = (merged_data[\"clicked\"] == \"both\").astype(int)\n",
    "\n",
    "# Display the first few rows of the merged data\n",
    "merged_data.head()"
   ]
  },
  {
   "attachments": {},
   "cell_type": "markdown",
   "metadata": {},
   "source": [
    "Now that we have merged the datasets, we need to preprocess the data further to make it suitable for modeling:\n",
    "\n",
    "1. Convert categorical variables (like email_text, email_version, weekday, and user_country) into a numerical format using one-hot encoding.\n",
    "2. Split the dataset into training and test sets."
   ]
  },
  {
   "cell_type": "code",
   "execution_count": 6,
   "metadata": {},
   "outputs": [
    {
     "data": {
      "text/html": [
       "<div>\n",
       "<style scoped>\n",
       "    .dataframe tbody tr th:only-of-type {\n",
       "        vertical-align: middle;\n",
       "    }\n",
       "\n",
       "    .dataframe tbody tr th {\n",
       "        vertical-align: top;\n",
       "    }\n",
       "\n",
       "    .dataframe thead th {\n",
       "        text-align: right;\n",
       "    }\n",
       "</style>\n",
       "<table border=\"1\" class=\"dataframe\">\n",
       "  <thead>\n",
       "    <tr style=\"text-align: right;\">\n",
       "      <th></th>\n",
       "      <th>hour</th>\n",
       "      <th>user_past_purchases</th>\n",
       "      <th>opened</th>\n",
       "      <th>email_text_short_email</th>\n",
       "      <th>email_version_personalized</th>\n",
       "      <th>weekday_Monday</th>\n",
       "      <th>weekday_Saturday</th>\n",
       "      <th>weekday_Sunday</th>\n",
       "      <th>weekday_Thursday</th>\n",
       "      <th>weekday_Tuesday</th>\n",
       "      <th>weekday_Wednesday</th>\n",
       "      <th>user_country_FR</th>\n",
       "      <th>user_country_UK</th>\n",
       "      <th>user_country_US</th>\n",
       "    </tr>\n",
       "  </thead>\n",
       "  <tbody>\n",
       "    <tr>\n",
       "      <th>75220</th>\n",
       "      <td>6</td>\n",
       "      <td>0</td>\n",
       "      <td>0</td>\n",
       "      <td>0.0</td>\n",
       "      <td>1.0</td>\n",
       "      <td>1.0</td>\n",
       "      <td>0.0</td>\n",
       "      <td>0.0</td>\n",
       "      <td>0.0</td>\n",
       "      <td>0.0</td>\n",
       "      <td>0.0</td>\n",
       "      <td>0.0</td>\n",
       "      <td>0.0</td>\n",
       "      <td>0.0</td>\n",
       "    </tr>\n",
       "    <tr>\n",
       "      <th>48955</th>\n",
       "      <td>9</td>\n",
       "      <td>9</td>\n",
       "      <td>0</td>\n",
       "      <td>1.0</td>\n",
       "      <td>1.0</td>\n",
       "      <td>1.0</td>\n",
       "      <td>0.0</td>\n",
       "      <td>0.0</td>\n",
       "      <td>0.0</td>\n",
       "      <td>0.0</td>\n",
       "      <td>0.0</td>\n",
       "      <td>0.0</td>\n",
       "      <td>0.0</td>\n",
       "      <td>1.0</td>\n",
       "    </tr>\n",
       "    <tr>\n",
       "      <th>44966</th>\n",
       "      <td>11</td>\n",
       "      <td>1</td>\n",
       "      <td>0</td>\n",
       "      <td>1.0</td>\n",
       "      <td>0.0</td>\n",
       "      <td>0.0</td>\n",
       "      <td>0.0</td>\n",
       "      <td>0.0</td>\n",
       "      <td>0.0</td>\n",
       "      <td>0.0</td>\n",
       "      <td>0.0</td>\n",
       "      <td>0.0</td>\n",
       "      <td>0.0</td>\n",
       "      <td>1.0</td>\n",
       "    </tr>\n",
       "    <tr>\n",
       "      <th>13568</th>\n",
       "      <td>11</td>\n",
       "      <td>3</td>\n",
       "      <td>0</td>\n",
       "      <td>0.0</td>\n",
       "      <td>0.0</td>\n",
       "      <td>0.0</td>\n",
       "      <td>0.0</td>\n",
       "      <td>0.0</td>\n",
       "      <td>0.0</td>\n",
       "      <td>0.0</td>\n",
       "      <td>1.0</td>\n",
       "      <td>0.0</td>\n",
       "      <td>0.0</td>\n",
       "      <td>1.0</td>\n",
       "    </tr>\n",
       "    <tr>\n",
       "      <th>92727</th>\n",
       "      <td>5</td>\n",
       "      <td>5</td>\n",
       "      <td>0</td>\n",
       "      <td>0.0</td>\n",
       "      <td>1.0</td>\n",
       "      <td>0.0</td>\n",
       "      <td>0.0</td>\n",
       "      <td>1.0</td>\n",
       "      <td>0.0</td>\n",
       "      <td>0.0</td>\n",
       "      <td>0.0</td>\n",
       "      <td>0.0</td>\n",
       "      <td>1.0</td>\n",
       "      <td>0.0</td>\n",
       "    </tr>\n",
       "  </tbody>\n",
       "</table>\n",
       "</div>"
      ],
      "text/plain": [
       "       hour  user_past_purchases  opened  email_text_short_email  \\\n",
       "75220     6                    0       0                     0.0   \n",
       "48955     9                    9       0                     1.0   \n",
       "44966    11                    1       0                     1.0   \n",
       "13568    11                    3       0                     0.0   \n",
       "92727     5                    5       0                     0.0   \n",
       "\n",
       "       email_version_personalized  weekday_Monday  weekday_Saturday  \\\n",
       "75220                         1.0             1.0               0.0   \n",
       "48955                         1.0             1.0               0.0   \n",
       "44966                         0.0             0.0               0.0   \n",
       "13568                         0.0             0.0               0.0   \n",
       "92727                         1.0             0.0               0.0   \n",
       "\n",
       "       weekday_Sunday  weekday_Thursday  weekday_Tuesday  weekday_Wednesday  \\\n",
       "75220             0.0               0.0              0.0                0.0   \n",
       "48955             0.0               0.0              0.0                0.0   \n",
       "44966             0.0               0.0              0.0                0.0   \n",
       "13568             0.0               0.0              0.0                1.0   \n",
       "92727             1.0               0.0              0.0                0.0   \n",
       "\n",
       "       user_country_FR  user_country_UK  user_country_US  \n",
       "75220              0.0              0.0              0.0  \n",
       "48955              0.0              0.0              1.0  \n",
       "44966              0.0              0.0              1.0  \n",
       "13568              0.0              0.0              1.0  \n",
       "92727              0.0              1.0              0.0  "
      ]
     },
     "execution_count": 6,
     "metadata": {},
     "output_type": "execute_result"
    }
   ],
   "source": [
    "from sklearn.model_selection import train_test_split\n",
    "from sklearn.preprocessing import OneHotEncoder\n",
    "\n",
    "# One-hot encode the categorical variables\n",
    "encoder = OneHotEncoder(drop='first')\n",
    "encoded_features = encoder.fit_transform(merged_data[['email_text', 'email_version', 'weekday', 'user_country']])\n",
    "encoded_df = pd.DataFrame(encoded_features.toarray(), columns=encoder.get_feature_names_out(['email_text', 'email_version', 'weekday', 'user_country']))\n",
    "\n",
    "# Concatenate the encoded features with the original dataframe\n",
    "final_data = pd.concat([merged_data, encoded_df], axis=1)\n",
    "\n",
    "# Drop the original categorical columns and email_id column\n",
    "final_data = final_data.drop(columns=['email_id', 'email_text', 'email_version', 'weekday', 'user_country'])\n",
    "\n",
    "# Split the data into training and test sets\n",
    "X = final_data.drop(columns='clicked')\n",
    "y = final_data['clicked']\n",
    "X_train, X_test, y_train, y_test = train_test_split(X, y, test_size=0.2, random_state=42)\n",
    "\n",
    "X_train.head()"
   ]
  },
  {
   "cell_type": "code",
   "execution_count": 7,
   "metadata": {},
   "outputs": [
    {
     "data": {
      "text/plain": [
       "(0.97735, 0.9508795859778058)"
      ]
     },
     "execution_count": 7,
     "metadata": {},
     "output_type": "execute_result"
    }
   ],
   "source": [
    "from sklearn.linear_model import LogisticRegression\n",
    "from sklearn.metrics import accuracy_score, roc_auc_score\n",
    "\n",
    "# Initialize the logistic regression model\n",
    "logreg = LogisticRegression(max_iter=1000, random_state=42)\n",
    "\n",
    "# Train the model\n",
    "logreg.fit(X_train, y_train)\n",
    "\n",
    "# Predict on the test set\n",
    "y_pred = logreg.predict(X_test)\n",
    "y_pred_proba = logreg.predict_proba(X_test)[:, 1]\n",
    "\n",
    "# Calculate accuracy and ROC AUC score\n",
    "accuracy = accuracy_score(y_test, y_pred)\n",
    "roc_auc = roc_auc_score(y_test, y_pred_proba)\n",
    "\n",
    "accuracy, roc_auc"
   ]
  },
  {
   "attachments": {},
   "cell_type": "markdown",
   "metadata": {},
   "source": [
    "The logistic regression model yields the following results:\n",
    "\n",
    "- Accuracy: Approximately 97.74\\%\n",
    "- ROC AUC Score: Approximately 0.951\n",
    "\n",
    "The ROC AUC score is a measure of how well the model distinguishes between the two classes, with a score of 1 indicating perfect separation. An ROC AUC score of 0.951 suggests that the model performs quite well."
   ]
  },
  {
   "attachments": {},
   "cell_type": "markdown",
   "metadata": {},
   "source": [
    "### 3. By how much do you think your model would improve click-through rate (CTR)? How would you test that?\n",
    "To determine by how much our model could improve CTR, we can compare the model's predicted probabilities of clicking with the actual outcomes. If we use the model to prioritize sending emails to users with the highest predicted probabilities, the CTR should increase."
   ]
  },
  {
   "attachments": {},
   "cell_type": "markdown",
   "metadata": {},
   "source": [
    "To test this:\n",
    "\n",
    "1. We can sort users by their predicted probabilities of clicking from the model.\n",
    "2. We can then simulate sending emails to the top N users and calculate the resulting CTR.\n",
    "3. Compare this simulated CTR to the baseline CTR (without the model)."
   ]
  },
  {
   "cell_type": "code",
   "execution_count": 8,
   "metadata": {},
   "outputs": [
    {
     "data": {
      "text/plain": [
       "(0.088, 0.02265)"
      ]
     },
     "execution_count": 8,
     "metadata": {},
     "output_type": "execute_result"
    }
   ],
   "source": [
    "# Simulate sending emails based on the model's predicted probabilities\n",
    "\n",
    "# Create a dataframe with actual labels and predicted probabilities\n",
    "simulation_df = pd.DataFrame({\n",
    "    'actual': y_test,\n",
    "    'predicted_prob': y_pred_proba\n",
    "})\n",
    "\n",
    "# Sort the dataframe by predicted probabilities\n",
    "simulation_df = simulation_df.sort_values(by='predicted_prob', ascending=False)\n",
    "\n",
    "# Simulate sending emails to top N users (for demonstration, let's say N = 5000)\n",
    "N = 5000\n",
    "simulated_clicks = simulation_df.head(N)['actual'].sum()\n",
    "\n",
    "# Calculate simulated CTR\n",
    "simulated_ctr = simulated_clicks / N\n",
    "\n",
    "# Calculate baseline CTR from the test set\n",
    "baseline_ctr = y_test.sum() / len(y_test)\n",
    "\n",
    "simulated_ctr, baseline_ctr"
   ]
  },
  {
   "attachments": {},
   "cell_type": "markdown",
   "metadata": {},
   "source": [
    "Based on the simulation:\n",
    "\n",
    "- The simulated CTR (using model predictions to prioritize sending emails to the top 5,000 users with the highest predicted probabilities) is approximately 8.8\\%.\n",
    "- The baseline CTR (without using the model) from the test set is approximately 2.27\\%.\n",
    "\n",
    "Thus, using the model's predictions to prioritize sending emails could potentially increase the CTR from 2.27\\% to 8.8\\%, a significant improvement.\n",
    "\n",
    "To validate this in a real-world scenario, one could conduct an A/B test:\n",
    "\n",
    "- Group A (Control Group): Send emails randomly without using the model's predictions.\n",
    "- Group B (Treatment Group): Use the model's predictions to prioritize sending emails.\n",
    "\n",
    "After a predefined period, one can compare the CTRs of both groups to assess the effectiveness of the model in improving CTR."
   ]
  },
  {
   "attachments": {},
   "cell_type": "markdown",
   "metadata": {},
   "source": [
    "### 4. Did you find any interesting pattern on how the email campaign performed for different segments of users?\n",
    "To answer this, we can explore the feature importance from the logistic regression model and also visualize the CTR across different segments (e.g., based on user_country, email_version, etc.). Let's start by checking the feature importances."
   ]
  },
  {
   "cell_type": "code",
   "execution_count": 9,
   "metadata": {},
   "outputs": [
    {
     "data": {
      "text/html": [
       "<div>\n",
       "<style scoped>\n",
       "    .dataframe tbody tr th:only-of-type {\n",
       "        vertical-align: middle;\n",
       "    }\n",
       "\n",
       "    .dataframe tbody tr th {\n",
       "        vertical-align: top;\n",
       "    }\n",
       "\n",
       "    .dataframe thead th {\n",
       "        text-align: right;\n",
       "    }\n",
       "</style>\n",
       "<table border=\"1\" class=\"dataframe\">\n",
       "  <thead>\n",
       "    <tr style=\"text-align: right;\">\n",
       "      <th></th>\n",
       "      <th>Feature</th>\n",
       "      <th>Importance</th>\n",
       "    </tr>\n",
       "  </thead>\n",
       "  <tbody>\n",
       "    <tr>\n",
       "      <th>2</th>\n",
       "      <td>opened</td>\n",
       "      <td>5.907902</td>\n",
       "    </tr>\n",
       "    <tr>\n",
       "      <th>10</th>\n",
       "      <td>weekday_Wednesday</td>\n",
       "      <td>0.252900</td>\n",
       "    </tr>\n",
       "    <tr>\n",
       "      <th>4</th>\n",
       "      <td>email_version_personalized</td>\n",
       "      <td>0.214044</td>\n",
       "    </tr>\n",
       "    <tr>\n",
       "      <th>1</th>\n",
       "      <td>user_past_purchases</td>\n",
       "      <td>0.167203</td>\n",
       "    </tr>\n",
       "    <tr>\n",
       "      <th>6</th>\n",
       "      <td>weekday_Saturday</td>\n",
       "      <td>0.159822</td>\n",
       "    </tr>\n",
       "    <tr>\n",
       "      <th>8</th>\n",
       "      <td>weekday_Thursday</td>\n",
       "      <td>0.151944</td>\n",
       "    </tr>\n",
       "    <tr>\n",
       "      <th>5</th>\n",
       "      <td>weekday_Monday</td>\n",
       "      <td>0.117337</td>\n",
       "    </tr>\n",
       "    <tr>\n",
       "      <th>9</th>\n",
       "      <td>weekday_Tuesday</td>\n",
       "      <td>0.095828</td>\n",
       "    </tr>\n",
       "    <tr>\n",
       "      <th>12</th>\n",
       "      <td>user_country_UK</td>\n",
       "      <td>0.069209</td>\n",
       "    </tr>\n",
       "    <tr>\n",
       "      <th>13</th>\n",
       "      <td>user_country_US</td>\n",
       "      <td>0.060273</td>\n",
       "    </tr>\n",
       "    <tr>\n",
       "      <th>3</th>\n",
       "      <td>email_text_short_email</td>\n",
       "      <td>0.054993</td>\n",
       "    </tr>\n",
       "    <tr>\n",
       "      <th>7</th>\n",
       "      <td>weekday_Sunday</td>\n",
       "      <td>0.015770</td>\n",
       "    </tr>\n",
       "    <tr>\n",
       "      <th>0</th>\n",
       "      <td>hour</td>\n",
       "      <td>0.000709</td>\n",
       "    </tr>\n",
       "    <tr>\n",
       "      <th>11</th>\n",
       "      <td>user_country_FR</td>\n",
       "      <td>-0.296961</td>\n",
       "    </tr>\n",
       "  </tbody>\n",
       "</table>\n",
       "</div>"
      ],
      "text/plain": [
       "                       Feature  Importance\n",
       "2                       opened    5.907902\n",
       "10           weekday_Wednesday    0.252900\n",
       "4   email_version_personalized    0.214044\n",
       "1          user_past_purchases    0.167203\n",
       "6             weekday_Saturday    0.159822\n",
       "8             weekday_Thursday    0.151944\n",
       "5               weekday_Monday    0.117337\n",
       "9              weekday_Tuesday    0.095828\n",
       "12             user_country_UK    0.069209\n",
       "13             user_country_US    0.060273\n",
       "3       email_text_short_email    0.054993\n",
       "7               weekday_Sunday    0.015770\n",
       "0                         hour    0.000709\n",
       "11             user_country_FR   -0.296961"
      ]
     },
     "execution_count": 9,
     "metadata": {},
     "output_type": "execute_result"
    }
   ],
   "source": [
    "# Extract feature importances from the logistic regression model (coefficients in this case)\n",
    "feature_importances = logreg.coef_[0]\n",
    "features = X_train.columns\n",
    "\n",
    "# Create a dataframe for feature importances\n",
    "importance_df = pd.DataFrame({\n",
    "    'Feature': features,\n",
    "    'Importance': feature_importances\n",
    "})\n",
    "\n",
    "# Sort the dataframe by importance\n",
    "importance_df = importance_df.sort_values(by='Importance', ascending=False)\n",
    "\n",
    "importance_df"
   ]
  },
  {
   "attachments": {},
   "cell_type": "markdown",
   "metadata": {},
   "source": [
    "Based on the logistic regression model's coefficients (which represent the feature importances):\n",
    "\n",
    "1. The most influential feature is whether the email was opened or not, which makes intuitive sense. If the email is opened, there's a higher chance that the user might click on the link inside.\n",
    "2. Emails sent on Wednesdays seem to have a higher probability of getting clicked.\n",
    "3. Personalized email versions also have a positive impact on the click-through rate.\n",
    "4. The number of past purchases by the user has a positive correlation, suggesting that users who've made more purchases in the past are more likely to click on the links in the emails.\n",
    "5. Emails to users from France (FR) have a negative coefficient, implying a lower probability of getting clicked compared to the reference category.\n"
   ]
  },
  {
   "attachments": {},
   "cell_type": "markdown",
   "metadata": {},
   "source": [
    "To better understand these patterns and visualize the CTR across different segments, we can explore the CTR based on user_country, email_version, and other categorical variables. Let's start with the user_country variable."
   ]
  },
  {
   "cell_type": "code",
   "execution_count": 11,
   "metadata": {},
   "outputs": [
    {
     "data": {
      "text/plain": [
       "user_country\n",
       "UK    0.024675\n",
       "US    0.024360\n",
       "ES    0.008327\n",
       "FR    0.008004\n",
       "Name: clicked, dtype: float64"
      ]
     },
     "execution_count": 11,
     "metadata": {},
     "output_type": "execute_result"
    }
   ],
   "source": [
    "# Calculate CTR for each user country\n",
    "country_ctr = merged_data.groupby('user_country')['clicked'].mean().sort_values(ascending=False)\n",
    "\n",
    "country_ctr"
   ]
  },
  {
   "attachments": {},
   "cell_type": "markdown",
   "metadata": {},
   "source": [
    "Based on the click-through rate (CTR) for different user countries:\n",
    "\n",
    "- UK has the highest CTR at approximately 2.47\\%.\n",
    "- US follows closely with a CTR of approximately 2.44\\%.\n",
    "- ES (Spain) and FR (France) have significantly lower CTRs, around 0.83\\% and 0.80\\%, respectively.\n",
    "\n",
    "This aligns with the model's feature importance, where users from France had a negative coefficient, indicating a lower probability of clicks."
   ]
  },
  {
   "cell_type": "code",
   "execution_count": 12,
   "metadata": {},
   "outputs": [
    {
     "data": {
      "text/plain": [
       "email_version\n",
       "personalized    0.027294\n",
       "generic         0.015137\n",
       "Name: clicked, dtype: float64"
      ]
     },
     "execution_count": 12,
     "metadata": {},
     "output_type": "execute_result"
    }
   ],
   "source": [
    "# Calculate CTR for each email version\n",
    "email_version_ctr = merged_data.groupby('email_version')['clicked'].mean().sort_values(ascending=False)\n",
    "\n",
    "email_version_ctr"
   ]
  },
  {
   "attachments": {},
   "cell_type": "markdown",
   "metadata": {},
   "source": [
    "Based on the click-through rate (CTR) for different email versions:\n",
    "\n",
    "- Personalized emails have a CTR of approximately 2.73\\%.\n",
    "- Generic emails have a lower CTR of approximately 1.51\\%.\n",
    "\n",
    "It's clear that personalized emails have a significantly higher CTR than generic emails, which is also reflected in the model's feature importance.\n",
    "\n",
    "This suggests that personalizing emails can lead to better user engagement and a higher likelihood of users clicking on the link inside the email."
   ]
  },
  {
   "attachments": {},
   "cell_type": "markdown",
   "metadata": {},
   "source": [
    "In summary, several patterns emerge from the data and the model:\n",
    "\n",
    "- Email open rate plays a critical role in determining click-through rate.\n",
    "- The day of the week, particularly Wednesdays, seems to influence the likelihood of users clicking on the link.\n",
    "- Personalized emails perform better than generic ones.\n",
    "\n",
    "There are differences in CTR among users from different countries, with the UK and the US having higher CTRs compared to Spain and France."
   ]
  }
 ],
 "metadata": {
  "kernelspec": {
   "display_name": "my_venv",
   "language": "python",
   "name": "python3"
  },
  "language_info": {
   "codemirror_mode": {
    "name": "ipython",
    "version": 3
   },
   "file_extension": ".py",
   "mimetype": "text/x-python",
   "name": "python",
   "nbconvert_exporter": "python",
   "pygments_lexer": "ipython3",
   "version": "3.11.1"
  },
  "orig_nbformat": 4
 },
 "nbformat": 4,
 "nbformat_minor": 2
}
