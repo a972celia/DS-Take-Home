{
 "cells": [
  {
   "attachments": {},
   "cell_type": "markdown",
   "metadata": {},
   "source": [
    "# Email Marketing Campaign\n",
    "\n",
    "\n",
    "## Goal\n",
    "\n",
    "\n",
    "Optimizing marketing campaigns is one of the most common data science tasks. Among the many possible marketing tools, one of the most efficient is emails.\n",
    "\n",
    "Emails are great because they are free, scalable, and can be easily personalized. Email optimization involves personalizing the text and/or the subject, who should receive it, when should be sent, etc. Machine Learning excels at this.\n",
    "\n",
    "\n",
    "## Challenge Description\n",
    "\n",
    "\n",
    "The marketing team of an e-commerce site has launched an email campaign. This site has email addresses from all the users who created an account in the past.\n",
    "\n",
    "They have chosen a random sample of users and emailed them. The email lets the user know about a new feature implemented on the site. From the marketing team perspective, success is if the user clicks on the link inside of the email. This link takes the user to the company site.\n",
    "\n",
    "You are in charge of figuring out how the email campaign performed and were asked the following questions:\n",
    "\n",
    "- What percentage of users opened the email and what percentage clicked on the link within the email?\n",
    "\n",
    "- The VP of marketing thinks that it is stupid to send emails in a random way. Based on all the information you have about the emails that were sent, can you build a model to optimize in future how to send emails to maximize the probability of users clicking on the link inside the email?\n",
    "\n",
    "- By how much do you think your model would improve click through rate (defined as # of users who click on the link/total users who receive the email). How would you test that?\n",
    "\n",
    "- Did you find any interesting pattern on how the email campaign performed for different segments of users? Explain."
   ]
  },
  {
   "attachments": {},
   "cell_type": "markdown",
   "metadata": {},
   "source": []
  }
 ],
 "metadata": {
  "language_info": {
   "name": "python"
  },
  "orig_nbformat": 4
 },
 "nbformat": 4,
 "nbformat_minor": 2
}
